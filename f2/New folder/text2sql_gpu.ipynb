{
 "cells": [
  {
   "cell_type": "code",
   "execution_count": 1,
   "metadata": {},
   "outputs": [],
   "source": [
    "!pip install -q dotenv langchain-google-genai ollama pandas"
   ]
  },
  {
   "cell_type": "code",
   "execution_count": 4,
   "metadata": {},
   "outputs": [],
   "source": [
    "import os\n",
    "\n",
    "# os.environ[\"OLLAMA_HOST\"] = \"https://a973-34-53-30-6.ngrok-free.app\"\n",
    "os.environ[\"OLLAMA_HOST\"] = \"https://429d-35-247-20-120.ngrok-free.app\""
   ]
  },
  {
   "cell_type": "code",
   "execution_count": 5,
   "metadata": {},
   "outputs": [
    {
     "name": "stderr",
     "output_type": "stream",
     "text": [
      "Error: Head \"https://429d-35-247-20-120.ngrok-free.app:443/\": dial tcp: lookup 429d-35-247-20-120.ngrok-free.app: no such host\n"
     ]
    }
   ],
   "source": [
    "!ollama list\n",
    "\n"
   ]
  },
  {
   "cell_type": "code",
   "execution_count": 3,
   "metadata": {},
   "outputs": [
    {
     "name": "stdout",
     "output_type": "stream",
     "text": [
      "NAME           ID              SIZE      MODIFIED      \n",
      "llama3.2:3b    a80c4f17acd5    2.0 GB    9 minutes ago    \n"
     ]
    }
   ],
   "source": [
    "!ollama list"
   ]
  },
  {
   "cell_type": "code",
   "execution_count": 6,
   "metadata": {},
   "outputs": [
    {
     "name": "stderr",
     "output_type": "stream",
     "text": [
      "Error: Head \"https://429d-35-247-20-120.ngrok-free.app:443/\": dial tcp: lookup 429d-35-247-20-120.ngrok-free.app: no such host\n"
     ]
    },
    {
     "name": "stdout",
     "output_type": "stream",
     "text": [
      "NAME    ID    SIZE    MODIFIED \n"
     ]
    }
   ],
   "source": [
    "# !ollama pull qwen2.5:7b\n",
    "# !ollama pull gemma3:4b\n",
    "# !ollama pull gemma3:12b\n",
    "# !ollama pull phi3:14b\n",
    "# !ollama pull phi3.5\n",
    "# !ollama pull phi4\n",
    "# !ollama pull phi4-mini\n",
    "!ollama pull llama3.2:3b\n",
    "\n",
    "!ollama list"
   ]
  },
  {
   "cell_type": "code",
   "execution_count": 5,
   "metadata": {},
   "outputs": [],
   "source": [
    "def read_file(filename):\n",
    "    file = open(filename,'r')\n",
    "    str = file.read()\n",
    "    return str\n",
    "\n",
    "def get_question_prompt(sql_file):\n",
    "    prompt = f\"\"\" \n",
    "    ### Instructions:\n",
    "    Your task is to create a text question based on given database schema.\n",
    "    Adhere to these rules:\n",
    "    - **Deliberately go through the database schema word by word** to appropriately create the question.\n",
    "    - **Create a question that will require joins and aliases** to increase difficulty of question.\n",
    "    - When creating a question, always stick to the given schema.\n",
    "\n",
    "    ### Input:\n",
    "    Generate a Text Question based on the following Database Schema `{read_file(sql_file)}`.\n",
    "    \n",
    "    This question will assess ability and knowledge of SQL, Database and DBMS.\n",
    "\n",
    "    ### Response:\n",
    "    Based on your instructions, here is the Text Question I have generated from the provided schema, without any additional text.:\n",
    "    \"\"\"\n",
    "    return prompt\n",
    "\n",
    "\n",
    "def get_custom_prompt(question,sql_file):\n",
    "    # schema = open(sql_file,'r').read()\n",
    "\n",
    "    prompt = f\"\"\" \n",
    "    ### Instructions:\n",
    "    Your task is to convert a question into a SQL query, given a Postgres database schema.\n",
    "    Adhere to these rules:\n",
    "    - **Deliberately go through the question and database schema word by word** to appropriately answer the question\n",
    "    - **Use Table Aliases** to prevent ambiguity. For example, `SELECT table1.col1, table2.col1 FROM table1 JOIN table2 ON table1.id = table2.id`.\n",
    "    - When creating a ratio, always cast the numerator as float\n",
    "\n",
    "    ### Input:\n",
    "    Generate a SQL query that answers the question `{question}`.\n",
    "    \n",
    "    This query will run on a database whose schema is represented in this string:\n",
    "\n",
    "    {read_file(sql_file)}\n",
    "\n",
    "    ### Response:\n",
    "    Based on your instructions, here is the SQL query I have generated to answer the question `{question}` without any additional text.:\n",
    "    \"\"\"\n",
    "    return prompt\n",
    "\n",
    "def get_rate_prompt(schema,question,answer):\n",
    "    prompt = f\"\"\"\n",
    "\n",
    "    ### Instructions:\n",
    "    Your Task is to throughly study the given SQL Schema, and the text question asked based on the schema. you will be also be given a SQL query, which you have to rate on scale of 10.\n",
    "    \n",
    "    Adhere to these rules:\n",
    "    - **Deliberately go through the question and database schema word by word** to appropriately answer the question\n",
    "    - **Use Table Aliases** to prevent ambiguity. For example, `SELECT table1.col1, table2.col1 FROM table1 JOIN table2 ON table1.id = table2.id`.\n",
    "    - When creating a ratio, always cast the numerator as float\n",
    "\n",
    "\n",
    "    ## Input:\n",
    "    A question, {question}, is asked based on schema as given below.\n",
    "    \n",
    "    Overall Rate the SQL query on scale of 10, `{answer}`, based on the efficiency simplicity.\n",
    "    This Query is suppose to run on the schema in the following string:\n",
    "\n",
    "    {read_file(schema)}\n",
    "\n",
    "    I DONT WANT EXPLAINATION FOR YOUR RATINGS! I ONLY WANT THE RATING! THATS IT!\n",
    "\n",
    "    \n",
    "\n",
    "    ### Response:\n",
    "    Based on your instructions, here is the rating of the sql query for provided schema without any additional text.:\n",
    "    \"\"\"\n",
    "\n",
    "    return prompt\n",
    "\n",
    "\n",
    "def get_ratings(schema,question,answer):\n",
    "    response = llm_gemini.invoke(\n",
    "        get_rate_prompt(\n",
    "            schema = schema,\n",
    "            question = question,\n",
    "            answer = answer,\n",
    "            )\n",
    "    )\n",
    "    \n",
    "    return response.content"
   ]
  },
  {
   "cell_type": "code",
   "execution_count": 6,
   "metadata": {},
   "outputs": [],
   "source": [
    "from dotenv import load_dotenv\n",
    "from langchain_google_genai import ChatGoogleGenerativeAI\n",
    "\n",
    "load_dotenv()\n",
    "\n",
    "llm_gemini = ChatGoogleGenerativeAI(\n",
    "    model = \"gemini-2.0-flash\",\n",
    "    api_key = os.getenv(\"GEMINI_API_KEY\")\n",
    ")\n"
   ]
  },
  {
   "cell_type": "code",
   "execution_count": 262,
   "metadata": {},
   "outputs": [],
   "source": [
    "# ans=llm_gemini.invoke(\"tell me a joke\")\n",
    "# ans.content"
   ]
  },
  {
   "cell_type": "code",
   "execution_count": 10,
   "metadata": {},
   "outputs": [],
   "source": [
    "questions = [\n",
    "    \"List all drugs in the 'Painkillers' category with a stock below 100 units, along with their supplier names and the date when their inventory was last updated. Order results by oldest inventory update first.\",\n",
    "    \"Identify the top 5 products by total sales amount in the last quarter of 2024, including their category names and the store locations where they were sold. Order the results by total sales amount in descending order.\",\n",
    "    \"Find the top 3 products with the highest average rating from user reviews, including their category names and total sales amounts. Only consider products that have been ordered at least 10 times. Order the results by average rating in descending order.\",\n",
    "    \"List all agents who have facilitated sales of properties with a total sale price exceeding $500,000 in the last year. Include their full names, the number of properties sold, and the total commission earned. Order the results by total commission in descending order.\",\n",
    "    \"Identify the top 5 products by total sales amount in the last quarter of 2024, including the name of the employee who made the sale and the total quantity sold for each product. Order the results by total sales amount in descending order.\",\n",
    "    \"Retrieve the first name of customers who have given a 5-star rating to a restaurant and have also placed at least one order at that restaurant. For each such customer-restaurant pair, also retrieve the name of the restaurant and the total amount the customer has spent at that restaurant.\",\n",
    "    \"Retrieve the first and last name of customers who have purchased a vehicle and also requested a service for that same vehicle, along with the model of the vehicle and the total cost of all services for that vehicle.\",\n",
    "    \"How can you retrieve a list of all active subscriptions along with the customer's name, plan name, and the subscription's start and end dates\",\n",
    "    \"How can you retrieve a report showing the total stock level of each product across all warehouses, including the product name and total quantity available?\",\n",
    "    \"How can you generate a report showing the total sales revenue for each salesperson, including their name and the total amount sold?\",\n",
    "]\n",
    "\n",
    "responses = []\n",
    "ratings = []"
   ]
  },
  {
   "cell_type": "code",
   "execution_count": 11,
   "metadata": {},
   "outputs": [],
   "source": [
    "# dict={\n",
    "#     'schema':schema,\n",
    "#     'question':question,\n",
    "#     'sqlanswer':sqlanswer,\n",
    "#     'rating':rating,\n",
    "#     'model':model,\n",
    "# }"
   ]
  },
  {
   "cell_type": "code",
   "execution_count": null,
   "metadata": {},
   "outputs": [],
   "source": []
  },
  {
   "cell_type": "code",
   "execution_count": null,
   "metadata": {},
   "outputs": [],
   "source": [
    "\n",
    "# import ollama\n",
    "\n",
    "# model_list = ['qwen2.5:7b','gemma3:4b','phi3','phi3.5']\n",
    "\n",
    "# dict=[]\n",
    "\n",
    "# for model in model_list:\n",
    "    \n",
    "#     for i in range(5):\n",
    "#         FILENAME = f\"table_list{i+1}_exp.sql\"\n",
    "\n",
    "#         response = ollama.chat(model=model, messages=[\n",
    "#         {\n",
    "#             'role': 'user',\n",
    "#             # 'content': get_prompt(\"What are the names and prices of all drugs in the 'Antibiotics' category?\")\n",
    "#             'content': get_custom_prompt(\n",
    "#                 question = questions[i],\n",
    "#                 sql_file = FILENAME\n",
    "#             )\n",
    "#             # 'content': get_prompt(\"Which pharmacies have sold more than 100 units of drugs from the 'Painkillers' category in the last 30 days, and what is the total revenue generated from those sales, including the names of the employees who made the sales?\")\n",
    "#         },\n",
    "#         ])\n",
    "\n",
    "#         res = response['message']['content']\n",
    "        \n",
    "\n",
    "#         responses.append(res)\n",
    "\n",
    "#         rating = get_ratings(\n",
    "#             schema = f\"table_list{i+1}_exp.sql\",\n",
    "#             question = questions[i],\n",
    "#             answer = res,\n",
    "#         )\n",
    "\n",
    "#         ratings.append(rating)\n",
    "\n",
    "#         d={\n",
    "#             'schema':read_file(FILENAME),\n",
    "#             'model':model,\n",
    "#             'question':questions[i],\n",
    "#             'sqlanswer':res,\n",
    "#             'rating':rating\n",
    "#         }\n",
    "\n",
    "#         dict.append(d)\n",
    "\n",
    "\n"
   ]
  },
  {
   "cell_type": "code",
   "execution_count": 13,
   "metadata": {},
   "outputs": [
    {
     "name": "stdout",
     "output_type": "stream",
     "text": [
      "NAME           ID              SIZE      MODIFIED      \n",
      "llama3.2:3b    a80c4f17acd5    2.0 GB    2 minutes ago    \n"
     ]
    }
   ],
   "source": [
    "!ollama list\n",
    "# !ollama pull llama3.2:3b"
   ]
  },
  {
   "cell_type": "code",
   "execution_count": null,
   "metadata": {},
   "outputs": [
    {
     "name": "stdout",
     "output_type": "stream",
     "text": [
      "SELECT T1.employee_id, SUM(T2.total_amount) AS total_spent, COUNT(DISTINCT T3.pharmacy_name) AS num_pharmacies, SUM(T3.quantity * T4.price) / 100 AS avg_price FROM employee AS T1 JOIN sales AS T2 ON T1.employee_id = T2.employee_id JOIN sale_details AS T3 ON T2.sale_id = T3.sale_id JOIN drug AS T4 ON T3.drug_id = T4.drug_id WHERE T2.total_amount IS NOT NULL AND T3.pharmacy_name LIKE 'A%' GROUP BY T1.employee_id;\n",
      "**************************************************\n",
      "{'schema': \"    \\n    CREATE TABLE supplier (\\n    supplier_id INT PRIMARY KEY AUTO_INCREMENT, -- Unique ID for each supplier, auto-incremented\\n    supplier_name VARCHAR(100) NOT NULL, -- Name of the supplier company or entity\\n    contact_info VARCHAR(100), -- Contact details (e.g., phone, email) of the supplier\\n    created_at TIMESTAMP DEFAULT CURRENT_TIMESTAMP -- Date and time when the supplier record was created\\n);\\n\\nCREATE TABLE drug_category (\\n    category_id INT PRIMARY KEY AUTO_INCREMENT, -- Unique ID for each drug category, auto-incremented\\n    category_name VARCHAR(50) NOT NULL -- Name of the drug category (e.g., Antibiotics, Painkillers)\\n);\\n\\nCREATE TABLE drug (\\n    drug_id INT PRIMARY KEY AUTO_INCREMENT, -- Unique ID for each drug, auto-incremented\\n    category_id INT, -- ID of the category this drug belongs to\\n    drug_name VARCHAR(100) NOT NULL, -- Name of the drug (e.g., Amoxicillin)\\n    manufacturer VARCHAR(100), -- Name of the company that produces the drug\\n    price DECIMAL(10,2), -- Price per unit of the drug\\n    stock INT -- Current stock quantity of the drug in inventory\\n);\\n\\nCREATE TABLE pharmacy (\\n    pharmacy_id INT PRIMARY KEY AUTO_INCREMENT, -- Unique ID for each pharmacy, auto-incremented\\n    pharmacy_name VARCHAR(100) NOT NULL, -- Name of the pharmacy\\n    location VARCHAR(100), -- Physical location or address of the pharmacy\\n    created_at TIMESTAMP DEFAULT CURRENT_TIMESTAMP -- Date and time when the pharmacy record was created\\n);\\n\\nCREATE TABLE employee (\\n    employee_id INT PRIMARY KEY AUTO_INCREMENT, -- Unique ID for each employee, auto-incremented\\n    pharmacy_id INT, -- ID of the pharmacy where the employee works\\n    first_name VARCHAR(50), -- Employee's first name\\n    last_name VARCHAR(50), -- Employee's last name\\n    role VARCHAR(50) -- Employee's job role (e.g., Pharmacist, Cashier)\\n);\\n\\nCREATE TABLE sales (\\n    sale_id INT PRIMARY KEY AUTO_INCREMENT, -- Unique ID for each sale, auto-incremented\\n    pharmacy_id INT, -- ID of the pharmacy where the sale occurred\\n    employee_id INT, -- ID of the employee who made the sale\\n    sale_date DATE, -- Date the sale took place\\n    total_amount DECIMAL(10,2) -- Total monetary amount of the sale\\n);\\n\\nCREATE TABLE sale_details (\\n    sale_detail_id INT PRIMARY KEY AUTO_INCREMENT, -- Unique ID for each sale detail entry, auto-incremented\\n    sale_id INT, -- ID of the sale this detail belongs to\\n    drug_id INT, -- ID of the drug sold\\n    quantity INT, -- Number of units of the drug sold\\n    subtotal DECIMAL(10,2) -- Total cost for this drug in the sale (quantity * price)\\n);\\n\\nCREATE TABLE inventory (\\n    inventory_id INT PRIMARY KEY AUTO_INCREMENT, -- Unique ID for each inventory record, auto-incremented\\n    drug_id INT, -- ID of the drug being tracked\\n    supplier_id INT, -- ID of the supplier providing the drug\\n    stock_level INT, -- Current stock level of the drug from this supplier\\n    last_updated DATE -- Date when the stock level was last updated\\n);\\n\\nCREATE TABLE prescription (\\n    prescription_id INT PRIMARY KEY AUTO_INCREMENT, -- Unique ID for each prescription, auto-incremented\\n    sale_id INT, -- ID of the sale associated with this prescription\\n    doctor_name VARCHAR(100), -- Name of the doctor who issued the prescription\\n    prescription_date DATE -- Date the prescription was issued\\n);\\n\\nCREATE TABLE feedback (\\n    feedback_id INT PRIMARY KEY AUTO_INCREMENT, -- Unique ID for each feedback entry, auto-incremented\\n    pharmacy_id INT, -- ID of the pharmacy receiving the feedback\\n    rating INT CHECK (rating >= 1 AND rating <= 5), -- Customer rating (1 to 5 stars)\\n    comments TEXT, -- Customer comments or notes\\n    feedback_date DATE -- Date the feedback was submitted\\n);\", 'model': 'llama3.2:3b', 'question': ChatResponse(model='llama3.2:3b', created_at='2025-03-24T11:29:58.717642519Z', done=True, done_reason='stop', total_duration=1720511499, load_duration=26400809, prompt_eval_count=1002, prompt_eval_duration=358989585, eval_count=71, eval_duration=1334061699, message=Message(role='assistant', content='Here is a text question that requires joins and aliases based on the given database schema:\\n\\n\"What is the total amount spent by each employee in sales involving antibiotics in pharmacies where the pharmacy name starts with \\'A\\', along with the quantity of antibiotic drugs sold and their corresponding prices?\"\\n\\nPlease let me know if this meets your requirements or if you need any modifications.', images=None, tool_calls=None)), 'sqlanswer': \"SELECT T1.employee_id, SUM(T2.total_amount) AS total_spent, COUNT(DISTINCT T3.pharmacy_name) AS num_pharmacies, SUM(T3.quantity * T4.price) / 100 AS avg_price FROM employee AS T1 JOIN sales AS T2 ON T1.employee_id = T2.employee_id JOIN sale_details AS T3 ON T2.sale_id = T3.sale_id JOIN drug AS T4 ON T3.drug_id = T4.drug_id WHERE T2.total_amount IS NOT NULL AND T3.pharmacy_name LIKE 'A%' GROUP BY T1.employee_id;\", 'rating': '8'}\n",
      "**************************************************\n",
      "SELECT e.first_name, e.last_name, d.department_name, s.store_name, SUM(sai.quantity) AS total_quantity FROM employee e JOIN store s ON e.store_id = s.store_id JOIN department d ON e.department_id = d.department_id JOIN product p ON s.id = p.category_id WHERE p.category_name IN ('TVs', 'Shirts') AND sales.sale_date >= '2022-01-01' GROUP BY e.first_name, e.last_name, d.department_name, s.store_name;\n",
      "**************************************************\n",
      "{'schema': 'CREATE TABLE store (\\n    store_id INT PRIMARY KEY AUTO_INCREMENT, -- Unique ID for each store, automatically incremented\\n    store_name VARCHAR(50) NOT NULL, -- Name of the store\\n    location VARCHAR(100) -- Physical location or address of the store\\n);\\n\\nCREATE TABLE department (\\n    department_id INT PRIMARY KEY AUTO_INCREMENT, -- Unique ID for each department, automatically incremented\\n    department_name VARCHAR(50) NOT NULL -- Name of the department (e.g., Electronics, Clothing)\\n);\\n\\nCREATE TABLE category (\\n    category_id INT PRIMARY KEY AUTO_INCREMENT, -- Unique ID for each product category, automatically incremented\\n    category_name VARCHAR(50) NOT NULL -- Name of the product category (e.g., TVs, Shirts)\\n);\\n\\nCREATE TABLE product (\\n    product_id INT PRIMARY KEY AUTO_INCREMENT, -- Unique ID for each product, automatically incremented\\n    category_id INT, -- ID of the category this product belongs to\\n    product_name VARCHAR(100), -- Name of the product (e.g., \"LED TV 55-inch\")\\n    price DECIMAL(10,2), -- Price per unit of the product\\n    FOREIGN KEY (category_id) REFERENCES category(category_id) -- Links to category table\\n);\\n\\nCREATE TABLE employee (\\n    employee_id INT PRIMARY KEY AUTO_INCREMENT, -- Unique ID for each employee, automatically incremented\\n    store_id INT, -- ID of the store where the employee works\\n    department_id INT, -- ID of the department the employee is assigned to\\n    first_name VARCHAR(50), -- Employee\\'s first name\\n    last_name VARCHAR(50), -- Employee\\'s last name\\n    FOREIGN KEY (store_id) REFERENCES store(store_id), -- Links to store table\\n    FOREIGN KEY (department_id) REFERENCES department(department_id) -- Links to department table\\n);\\n\\nCREATE TABLE customer (\\n    customer_id INT PRIMARY KEY AUTO_INCREMENT, -- Unique ID for each customer, automatically incremented\\n    first_name VARCHAR(50), -- Customer\\'s first name\\n    email VARCHAR(100) -- Customer\\'s email address\\n);\\n\\nCREATE TABLE sales (\\n    sale_id INT PRIMARY KEY AUTO_INCREMENT, -- Unique ID for each sale, automatically incremented\\n    store_id INT, -- ID of the store where the sale occurred\\n    employee_id INT, -- ID of the employee who processed the sale\\n    customer_id INT, -- ID of the customer who made the purchase\\n    sale_date DATETIME, -- Date and time when the sale took place\\n    total_amount DECIMAL(10,2), -- Total monetary amount of the sale\\n    FOREIGN KEY (store_id) REFERENCES store(store_id), -- Links to store table\\n    FOREIGN KEY (employee_id) REFERENCES employee(employee_id), -- Links to employee table\\n    FOREIGN KEY (customer_id) REFERENCES customer(customer_id) -- Links to customer table\\n);\\n\\nCREATE TABLE sale_items (\\n    sale_item_id INT PRIMARY KEY AUTO_INCREMENT, -- Unique ID for each sale item, automatically incremented\\n    sale_id INT, -- ID of the sale this item belongs to\\n    product_id INT, -- ID of the product sold\\n    quantity INT, -- Number of units of the product sold\\n    subtotal DECIMAL(10,2), -- Subtotal amount for this specific product in the sale\\n    FOREIGN KEY (sale_id) REFERENCES sales(sale_id), -- Links to sales table\\n    FOREIGN KEY (product_id) REFERENCES product(product_id) -- Links to product table\\n);\\n\\nCREATE TABLE stock (\\n    stock_id INT PRIMARY KEY AUTO_INCREMENT, -- Unique ID for each stock record, automatically incremented\\n    product_id INT, -- ID of the product being tracked\\n    store_id INT, -- ID of the store holding this stock\\n    quantity INT, -- Current stock quantity of the product at the store\\n    FOREIGN KEY (product_id) REFERENCES product(product_id), -- Links to product table\\n    FOREIGN KEY (store_id) REFERENCES store(store_id) -- Links to store table\\n);\\n\\n\\n\\n\\n\\n\\n-- product.category_id can be joined with category.category_id -- Connects each product to its category.\\n-- employee.store_id can be joined with store.store_id -- Associates employees with the store they work at.\\n-- employee.department_id can be joined with department.department_id -- Links employees to their assigned department.\\n-- sales.store_id can be joined with store.store_id -- Ties sales to the store where they occurred.\\n-- sales.employee_id can be joined with employee.employee_id -- Connects sales to the employee who processed them.\\n-- sales.customer_id can be joined with customer.customer_id -- Links sales to the customer who made the purchase.\\n-- sale_items.sale_id can be joined with sales.sale_id -- Associates sale items with their corresponding sale.\\n-- sale_items.product_id can be joined with product.product_id -- Connects sale items to the specific product sold.\\n-- stock.product_id can be joined with product.product_id -- Ties stock records to the products they track.\\n-- stock.store_id can be joined with store.store_id -- Links stock records to the store holding the inventory.', 'model': 'llama3.2:3b', 'question': ChatResponse(model='llama3.2:3b', created_at='2025-03-24T11:30:06.174392689Z', done=True, done_reason='stop', total_duration=2003163187, load_duration=26342315, prompt_eval_count=1183, prompt_eval_duration=591671459, eval_count=76, eval_duration=1384384651, message=Message(role='assistant', content='Here is a text question based on the given database schema:\\n\\n\"List all employees who work at stores that sell TVs and Shirts, along with their department assignment and store name, but only for sales made in 2022 or later, and show the quantity of each product sold by those employees. Note: Ensure correct joins are used, including proper aliases to avoid ambiguity.\"', images=None, tool_calls=None)), 'sqlanswer': \"SELECT e.first_name, e.last_name, d.department_name, s.store_name, SUM(sai.quantity) AS total_quantity FROM employee e JOIN store s ON e.store_id = s.store_id JOIN department d ON e.department_id = d.department_id JOIN product p ON s.id = p.category_id WHERE p.category_name IN ('TVs', 'Shirts') AND sales.sale_date >= '2022-01-01' GROUP BY e.first_name, e.last_name, d.department_name, s.store_name;\", 'rating': '7'}\n",
      "**************************************************\n",
      "SELECT total_amount FROM order_ JOIN user ON order_.user_id = user.user_id JOIN shipping ON order_.order_id = shipping.order_id WHERE SUBSTR(shipping.shipping_date, 1, 10) = '2022-01-01'\n",
      "**************************************************\n",
      "{'schema': 'CREATE TABLE user (\\n    user_id INT PRIMARY KEY AUTO_INCREMENT, -- Unique ID for each user, automatically incremented\\n    username VARCHAR(50) UNIQUE, -- Unique username chosen by the user\\n    email VARCHAR(100), -- User\\'s email address\\n    created_at TIMESTAMP DEFAULT CURRENT_TIMESTAMP -- Date and time when the user account was created\\n);\\n\\nCREATE TABLE category (\\n    category_id INT PRIMARY KEY AUTO_INCREMENT, -- Unique ID for each product category, automatically incremented\\n    category_name VARCHAR(50) -- Name of the product category (e.g., Electronics, Clothing)\\n);\\n\\nCREATE TABLE product (\\n    product_id INT PRIMARY KEY AUTO_INCREMENT, -- Unique ID for each product, automatically incremented\\n    category_id INT, -- ID of the category this product belongs to\\n    product_name VARCHAR(100), -- Name of the product (e.g., \"Wireless Mouse\")\\n    price DECIMAL(10,2), -- Price per unit of the product\\n    stock INT -- Current stock quantity of the product\\n    FOREIGN KEY (category_id) REFERENCES category(category_id) -- Links to category table\\n);\\n\\nCREATE TABLE order_ (\\n    order_id INT PRIMARY KEY AUTO_INCREMENT, -- Unique ID for each order, automatically incremented\\n    user_id INT, -- ID of the user who placed the order\\n    order_date DATETIME, -- Date and time when the order was placed\\n    status ENUM(\\'PENDING\\', \\'SHIPPED\\', \\'DELIVERED\\'), -- Current status of the order\\n    total_amount DECIMAL(10,2), -- Total monetary amount of the order\\n    FOREIGN KEY (user_id) REFERENCES user(user_id) -- Links to user table\\n);\\n\\nCREATE TABLE order_item (\\n    order_item_id INT PRIMARY KEY AUTO_INCREMENT, -- Unique ID for each order item, automatically incremented\\n    order_id INT, -- ID of the order this item belongs to\\n    product_id INT, -- ID of the product ordered\\n    quantity INT, -- Number of units of the product ordered\\n    subtotal DECIMAL(10,2), -- Subtotal amount for this specific product in the order\\n    FOREIGN KEY (order_id) REFERENCES order_(order_id), -- Links to order_ table\\n    FOREIGN KEY (product_id) REFERENCES product(product_id) -- Links to product table\\n);\\n\\nCREATE TABLE payment (\\n    payment_id INT PRIMARY KEY AUTO_INCREMENT, -- Unique ID for each payment, automatically incremented\\n    order_id INT, -- ID of the order associated with this payment\\n    amount DECIMAL(10,2), -- Amount paid for the order\\n    payment_date DATETIME, -- Date and time when the payment was made\\n    method ENUM(\\'CARD\\', \\'PAYPAL\\', \\'COD\\'), -- Payment method used (Credit Card, PayPal, Cash on Delivery)\\n    FOREIGN KEY (order_id) REFERENCES order_(order_id) -- Links to order_ table\\n);\\n\\nCREATE TABLE shipping (\\n    shipping_id INT PRIMARY KEY AUTO_INCREMENT, -- Unique ID for each shipping record, automatically incremented\\n    order_id INT, -- ID of the order being shipped\\n    shipping_date DATE, -- Date when the order was shipped\\n    tracking_number VARCHAR(50), -- Tracking number for the shipment\\n    FOREIGN KEY (order_id) REFERENCES order_(order_id) -- Links to order_ table\\n);\\n\\nCREATE TABLE review (\\n    review_id INT PRIMARY KEY AUTO_INCREMENT, -- Unique ID for each review, automatically incremented\\n    product_id INT, -- ID of the product being reviewed\\n    user_id INT, -- ID of the user who wrote the review\\n    rating INT, -- Rating given by the user (e.g., 1 to 5)\\n    comment TEXT, -- Text comment or feedback about the product\\n    FOREIGN KEY (product_id) REFERENCES product(product_id), -- Links to product table\\n    FOREIGN KEY (user_id) REFERENCES user(user_id) -- Links to user table\\n);\\n\\n\\n\\n-- product.category_id can be joined with category.category_id -- Connects each product to its category.\\n-- order_.user_id can be joined with user.user_id -- Ties orders to the user who placed them.\\n-- order_item.order_id can be joined with order_.order_id -- Links order items to their corresponding order.\\n-- order_item.product_id can be joined with product.product_id -- Connects order items to the specific product ordered.\\n-- payment.order_id can be joined with order_.order_id -- Associates payments with the order they cover.\\n-- shipping.order_id can be joined with order_.order_id -- Links shipping records to the order being shipped.\\n-- review.product_id can be joined with product.product_id -- Ties reviews to the product being reviewed.\\n-- review.user_id can be joined with user.user_id -- Connects reviews to the user who wrote them.', 'model': 'llama3.2:3b', 'question': ChatResponse(model='llama3.2:3b', created_at='2025-03-24T11:30:12.234136584Z', done=True, done_reason='stop', total_duration=2313857080, load_duration=24511559, prompt_eval_count=1131, prompt_eval_duration=475008166, eval_count=108, eval_duration=1813530460, message=Message(role='assistant', content=\"Here's a sample text question based on the given database schema:\\n\\nWhat is the total monetary amount for all orders placed by users who live in California? Join the `user` table with the `order_` table using the `user_id` foreign key, and then join the resulting set with the `shipping` table to filter the results to only include orders that have been shipped. Assume that the `shipping` date is stored in a format that can be compared to '2022-01-01' in a date comparison.\", images=None, tool_calls=None)), 'sqlanswer': \"SELECT total_amount FROM order_ JOIN user ON order_.user_id = user.user_id JOIN shipping ON order_.order_id = shipping.order_id WHERE SUBSTR(shipping.shipping_date, 1, 10) = '2022-01-01'\", 'rating': '4'}\n",
      "**************************************************\n",
      "SELECT T1.amount, T2.property_type.type_name FROM commission AS T1 JOIN sale AS T2 ON T1.sale_id = T2.sale_id WHERE T1.agent_id IN ( SELECT agent_id FROM agent WHERE first_name = 'Agent A' ) AND T2.sale_id NOT IN ( SELECT sale_id FROM sale WHERE property_id IN ( SELECT property_id FROM property WHERE address LIKE '%Street B%' ) )\n",
      "**************************************************\n",
      "{'schema': \"CREATE TABLE agent (\\n    agent_id INT PRIMARY KEY AUTO_INCREMENT, -- Unique ID for each agent, automatically incremented\\n    first_name VARCHAR(50), -- Agent's first name\\n    last_name VARCHAR(50), -- Agent's last name\\n    phone VARCHAR(20) -- Agent's phone number\\n);\\n\\nCREATE TABLE property_type (\\n    type_id INT PRIMARY KEY AUTO_INCREMENT, -- Unique ID for each property type, automatically incremented\\n    type_name VARCHAR(50) NOT NULL -- Name of the property type (e.g., House, Apartment)\\n);\\n\\nCREATE TABLE property (\\n    property_id INT PRIMARY KEY AUTO_INCREMENT, -- Unique ID for each property, automatically incremented\\n    type_id INT, -- ID of the property type this property belongs to\\n    address TEXT, -- Full address of the property\\n    price DECIMAL(12,2), -- Listed price of the property\\n    status ENUM('AVAILABLE', 'SOLD', 'PENDING'), -- Current status of the property\\n    FOREIGN KEY (type_id) REFERENCES property_type(type_id) -- Links to property_type table\\n);\\n\\nCREATE TABLE client (\\n    client_id INT PRIMARY KEY AUTO_INCREMENT, -- Unique ID for each client, automatically incremented\\n    first_name VARCHAR(50), -- Client's first name\\n    last_name VARCHAR(50), -- Client's last name\\n    email VARCHAR(100) -- Client's email address\\n);\\n\\nCREATE TABLE sale (\\n    sale_id INT PRIMARY KEY AUTO_INCREMENT, -- Unique ID for each sale, automatically incremented\\n    property_id INT, -- ID of the property sold\\n    agent_id INT, -- ID of the agent who facilitated the sale\\n    client_id INT, -- ID of the client who purchased the property\\n    sale_date DATE, -- Date when the sale was completed\\n    sale_price DECIMAL(12,2), -- Final sale price of the property\\n    FOREIGN KEY (property_id) REFERENCES property(property_id), -- Links to property table\\n    FOREIGN KEY (agent_id) REFERENCES agent(agent_id), -- Links to agent table\\n    FOREIGN KEY (client_id) REFERENCES client(client_id) -- Links to client table\\n);\\n\\nCREATE TABLE commission (\\n    commission_id INT PRIMARY KEY AUTO_INCREMENT, -- Unique ID for each commission record, automatically incremented\\n    sale_id INT, -- ID of the sale this commission is tied to\\n    agent_id INT, -- ID of the agent receiving the commission\\n    amount DECIMAL(10,2), -- Commission amount earned by the agent\\n    FOREIGN KEY (sale_id) REFERENCES sale(sale_id), -- Links to sale table\\n    FOREIGN KEY (agent_id) REFERENCES agent(agent_id) -- Links to agent table\\n);\\n\\nCREATE TABLE appointment (\\n    appointment_id INT PRIMARY KEY AUTO_INCREMENT, -- Unique ID for each appointment, automatically incremented\\n    agent_id INT, -- ID of the agent conducting the appointment\\n    client_id INT, -- ID of the client attending the appointment\\n    property_id INT, -- ID of the property being shown or discussed\\n    appointment_date DATETIME, -- Date and time of the appointment\\n    FOREIGN KEY (agent_id) REFERENCES agent(agent_id), -- Links to agent table\\n    FOREIGN KEY (client_id) REFERENCES client(client_id), -- Links to client table\\n    FOREIGN KEY (property_id) REFERENCES property(property_id) -- Links to property table\\n);\\n\\nCREATE TABLE expense (\\n    expense_id INT PRIMARY KEY AUTO_INCREMENT, -- Unique ID for each expense record, automatically incremented\\n    property_id INT, -- ID of the property associated with the expense\\n    amount DECIMAL(10,2), -- Amount of the expense\\n    description TEXT, -- Details or reason for the expense (e.g., repairs, marketing)\\n    expense_date DATE, -- Date when the expense was incurred\\n    FOREIGN KEY (property_id) REFERENCES property(property_id) -- Links to property table\\n);\\n\\nCREATE TABLE feedback (\\n    feedback_id INT PRIMARY KEY AUTO_INCREMENT, -- Unique ID for each feedback entry, automatically incremented\\n    client_id INT, -- ID of the client providing the feedback\\n    rating INT, -- Rating given by the client (e.g., 1 to 5)\\n    comments TEXT, -- Additional comments or notes from the client\\n    FOREIGN KEY (client_id) REFERENCES client(client_id) -- Links to client table\\n);\\n\\n\\n-- property.type_id can be joined with property_type.type_id -- Connects each property to its type.\\n-- sale.property_id can be joined with property.property_id -- Ties sales to the property sold.\\n-- sale.agent_id can be joined with agent.agent_id -- Links sales to the agent who facilitated them.\\n-- sale.client_id can be joined with client.client_id -- Connects sales to the client who purchased the property.\\n-- commission.sale_id can be joined with sale.sale_id -- Associates commissions with their corresponding sale.\\n-- commission.agent_id can be joined with agent.agent_id -- Links commissions to the agent receiving them.\\n-- appointment.agent_id can be joined with agent.agent_id -- Ties appointments to the agent conducting them.\\n-- appointment.client_id can be joined with client.client_id -- Connects appointments to the client attending them.\\n-- appointment.property_id can be joined with property.property_id -- Links appointments to the property being shown.\\n-- expense.property_id can be joined with property.property_id -- Associates expenses with the property they relate to.\\n-- feedback.client_id can be joined with client.client_id -- Connects feedback to the client providing it.\", 'model': 'llama3.2:3b', 'question': ChatResponse(model='llama3.2:3b', created_at='2025-03-24T11:30:17.425720435Z', done=True, done_reason='stop', total_duration=2248144986, load_duration=24557388, prompt_eval_count=1268, prompt_eval_duration=486030101, eval_count=97, eval_duration=1736828245, message=Message(role='assistant', content='Here\\'s a possible text question based on the given database schema:\\n\\n\"What is the total amount of commission earned by Agent A in Sales B and C, where Agent A is the agent associated with Sale B (sale_id = 101) and Commission A (commission_id = 201), but Agent A is not the agent associated with Sale C (sale_id = 102)? What is also the type of property sold for each sale? Display all commission amounts and corresponding sales details.\"', images=None, tool_calls=None)), 'sqlanswer': \"SELECT T1.amount, T2.property_type.type_name FROM commission AS T1 JOIN sale AS T2 ON T1.sale_id = T2.sale_id WHERE T1.agent_id IN ( SELECT agent_id FROM agent WHERE first_name = 'Agent A' ) AND T2.sale_id NOT IN ( SELECT sale_id FROM sale WHERE property_id IN ( SELECT property_id FROM property WHERE address LIKE '%Street B%' ) )\", 'rating': '6'}\n",
      "**************************************************\n",
      "SELECT \n",
      "    e.employee_id,\n",
      "    p.product_name AS sale_price,\n",
      "    s.quantity_sold,\n",
      "    s.total_amount\n",
      "FROM sales s\n",
      "JOIN product p ON s.product_id = p.product_id\n",
      "JOIN employee e ON s.employee_id = e.employee_id\n",
      "GROUP BY s.employee_id, p.product_name, s.quantity_sold, s.total_amount\n",
      "**************************************************\n",
      "{'schema': 'CREATE TABLE supplier (\\n    supplier_id INT PRIMARY KEY AUTO_INCREMENT, -- Unique ID for each supplier, automatically incremented\\n    supplier_name VARCHAR(100), -- Name of the supplier company or entity\\n    contact VARCHAR(100) -- Contact information for the supplier (e.g., phone, email)\\n);\\n\\nCREATE TABLE raw_material (\\n    material_id INT PRIMARY KEY AUTO_INCREMENT, -- Unique ID for each raw material, automatically incremented\\n    material_name VARCHAR(100), -- Name of the raw material (e.g., Steel, Cotton)\\n    unit_cost DECIMAL(10,2) -- Cost per unit of the raw material\\n);\\n\\nCREATE TABLE product (\\n    product_id INT PRIMARY KEY AUTO_INCREMENT, -- Unique ID for each product, automatically incremented\\n    product_name VARCHAR(100), -- Name of the product (e.g., \"Steel Table\")\\n    sale_price DECIMAL(10,2) -- Price at which the product is sold per unit\\n);\\n\\nCREATE TABLE production (\\n    production_id INT PRIMARY KEY AUTO_INCREMENT, -- Unique ID for each production batch, automatically incremented\\n    product_id INT, -- ID of the product being produced\\n    production_date DATE, -- Date when the production occurred\\n    quantity INT, -- Number of units produced in this batch\\n    FOREIGN KEY (product_id) REFERENCES product(product_id) -- Links to product table\\n);\\n\\nCREATE TABLE employee (\\n    employee_id INT PRIMARY KEY AUTO_INCREMENT, -- Unique ID for each employee, automatically incremented\\n    first_name VARCHAR(50), -- Employee\\'s first name\\n    role VARCHAR(50) -- Employee\\'s job role (e.g., Salesperson, Production Worker)\\n);\\n\\nCREATE TABLE sales (\\n    sale_id INT PRIMARY KEY AUTO_INCREMENT, -- Unique ID for each sale, automatically incremented\\n    product_id INT, -- ID of the product sold\\n    employee_id INT, -- ID of the employee who made the sale\\n    sale_date DATE, -- Date when the sale took place\\n    quantity_sold INT, -- Number of units sold\\n    total_amount DECIMAL(10,2), -- Total monetary amount of the sale\\n    FOREIGN KEY (product_id) REFERENCES product(product_id), -- Links to product table\\n    FOREIGN KEY (employee_id) REFERENCES employee(employee_id) -- Links to employee table\\n);\\n\\nCREATE TABLE inventory (\\n    inventory_id INT PRIMARY KEY AUTO_INCREMENT, -- Unique ID for each inventory record, automatically incremented\\n    material_id INT, -- ID of the raw material being tracked\\n    stock_level INT, -- Current stock quantity of the raw material\\n    FOREIGN KEY (material_id) REFERENCES raw_material(material_id) -- Links to raw_material table\\n);\\n\\nCREATE TABLE customer (\\n    customer_id INT PRIMARY KEY AUTO_INCREMENT, -- Unique ID for each customer, automatically incremented\\n    company_name VARCHAR(100), -- Name of the customer company or entity\\n    contact VARCHAR(100) -- Contact information for the customer (e.g., phone, email)\\n);\\n\\nCREATE TABLE order_ (\\n    order_id INT PRIMARY KEY AUTO_INCREMENT, -- Unique ID for each order, automatically incremented\\n    customer_id INT, -- ID of the customer who placed the order\\n    sale_id INT, -- ID of the sale associated with this order\\n    order_date DATE, -- Date when the order was placed\\n    FOREIGN KEY (customer_id) REFERENCES customer(customer_id), -- Links to customer table\\n    FOREIGN KEY (sale_id) REFERENCES sales(sale_id) -- Links to sales table\\n);\\n\\n\\n-- production.product_id can be joined with product.product_id -- Connects production batches to the product being produced.\\n-- sales.product_id can be joined with product.product_id -- Ties sales to the product sold.\\n-- sales.employee_id can be joined with employee.employee_id -- Links sales to the employee who made them.\\n-- inventory.material_id can be joined with raw_material.material_id -- Associates inventory records with the raw materials they track.\\n-- order_.customer_id can be joined with customer.customer_id -- Connects orders to the customer who placed them.\\n-- order_.sale_id can be joined with sales.sale_id -- Links orders to their corresponding sale.', 'model': 'llama3.2:3b', 'question': ChatResponse(model='llama3.2:3b', created_at='2025-03-24T11:30:22.806155933Z', done=True, done_reason='stop', total_duration=1834359925, load_duration=24508807, prompt_eval_count=995, prompt_eval_duration=255902284, eval_count=83, eval_duration=1553184336, message=Message(role='assistant', content='Here is a text question based on the given database schema:\\n\\nWrite a SQL query that retrieves the product name, sale price, quantity sold, and total amount of all sales made by each employee, grouped by employee ID. The query should include aliases for the tables used in the joins (e.g., `t1` for `sales`, `t2` for `product`) to make it more readable.', images=None, tool_calls=None)), 'sqlanswer': 'SELECT \\n    e.employee_id,\\n    p.product_name AS sale_price,\\n    s.quantity_sold,\\n    s.total_amount\\nFROM sales s\\nJOIN product p ON s.product_id = p.product_id\\nJOIN employee e ON s.employee_id = e.employee_id\\nGROUP BY s.employee_id, p.product_name, s.quantity_sold, s.total_amount', 'rating': '8'}\n",
      "**************************************************\n",
      "SELECT \n",
      "    c.first_name,\n",
      "    c.email,\n",
      "    COALESCE(SUM(od.subtotal), 0) AS total_amount_spent,\n",
      "    COALESCE(COUNT(DISTINCT od.item_id), 0) AS num_menu_items_ordered,\n",
      "    GROUP_CONCAT(m.item_name, ', ') AS menu_item_names\n",
      "FROM \n",
      "    customer c\n",
      "JOIN \n",
      "    order_ o ON c.customer_id = o.customer_id\n",
      "JOIN \n",
      "    order_detail od ON o.order_id = od.order_id\n",
      "JOIN \n",
      "    menu_item m ON od.item_id = m.item_id\n",
      "GROUP BY \n",
      "    c.first_name, c.email\n",
      "ORDER BY \n",
      "    total_amount_spent DESC;\n",
      "**************************************************\n",
      "{'schema': 'CREATE TABLE restaurant (\\n    restaurant_id INT PRIMARY KEY AUTO_INCREMENT, -- Unique ID for each restaurant, automatically incremented\\n    name VARCHAR(100), -- Name of the restaurant\\n    location VARCHAR(100) -- Physical location or address of the restaurant\\n);\\n\\nCREATE TABLE menu_category (\\n    category_id INT PRIMARY KEY AUTO_INCREMENT, -- Unique ID for each menu category, automatically incremented\\n    category_name VARCHAR(50) -- Name of the menu category (e.g., Appetizers, Desserts)\\n);\\n\\nCREATE TABLE menu_item (\\n    item_id INT PRIMARY KEY AUTO_INCREMENT, -- Unique ID for each menu item, automatically incremented\\n    category_id INT, -- ID of the category this menu item belongs to\\n    item_name VARCHAR(100), -- Name of the menu item (e.g., \"Chicken Wings\")\\n    price DECIMAL(10,2), -- Price of the menu item\\n    FOREIGN KEY (category_id) REFERENCES menu_category(category_id) -- Links to menu_category table\\n);\\n\\nCREATE TABLE employee (\\n    employee_id INT PRIMARY KEY AUTO_INCREMENT, -- Unique ID for each employee, automatically incremented\\n    restaurant_id INT, -- ID of the restaurant where the employee works\\n    first_name VARCHAR(50), -- Employee\\'s first name\\n    role VARCHAR(50) -- Employee\\'s job role (e.g., Waiter, Chef)\\n    FOREIGN KEY (restaurant_id) REFERENCES restaurant(restaurant_id) -- Links to restaurant table\\n);\\n\\nCREATE TABLE customer (\\n    customer_id INT PRIMARY KEY AUTO_INCREMENT, -- Unique ID for each customer, automatically incremented\\n    first_name VARCHAR(50), -- Customer\\'s first name\\n    email VARCHAR(100) -- Customer\\'s email address\\n);\\n\\nCREATE TABLE order_ (\\n    order_id INT PRIMARY KEY AUTO_INCREMENT, -- Unique ID for each order, automatically incremented\\n    restaurant_id INT, -- ID of the restaurant where the order was placed\\n    employee_id INT, -- ID of the employee who processed the order\\n    customer_id INT, -- ID of the customer who placed the order\\n    order_date DATETIME, -- Date and time when the order was placed\\n    total_amount DECIMAL(10,2), -- Total monetary amount of the order\\n    FOREIGN KEY (restaurant_id) REFERENCES restaurant(restaurant_id), -- Links to restaurant table\\n    FOREIGN KEY (employee_id) REFERENCES employee(employee_id), -- Links to employee table\\n    FOREIGN KEY (customer_id) REFERENCES customer(customer_id) -- Links to customer table\\n);\\n\\nCREATE TABLE order_detail (\\n    order_detail_id INT PRIMARY KEY AUTO_INCREMENT, -- Unique ID for each order detail, automatically incremented\\n    order_id INT, -- ID of the order this detail belongs to\\n    item_id INT, -- ID of the menu item ordered\\n    quantity INT, -- Number of units of the menu item ordered\\n    subtotal DECIMAL(10,2), -- Subtotal amount for this specific menu item in the order\\n    FOREIGN KEY (order_id) REFERENCES order_(order_id), -- Links to order_ table\\n    FOREIGN KEY (item_id) REFERENCES menu_item(item_id) -- Links to menu_item table\\n);\\n\\nCREATE TABLE feedback (\\n    feedback_id INT PRIMARY KEY AUTO_INCREMENT, -- Unique ID for each feedback entry, automatically incremented\\n    customer_id INT, -- ID of the customer providing the feedback\\n    restaurant_id INT, -- ID of the restaurant being reviewed\\n    rating INT, -- Rating given by the customer (e.g., 1 to 5)\\n    comments TEXT, -- Additional comments or notes from the customer\\n    FOREIGN KEY (customer_id) REFERENCES customer(customer_id), -- Links to customer table\\n    FOREIGN KEY (restaurant_id) REFERENCES restaurant(restaurant_id) -- Links to restaurant table\\n);\\n\\n\\n-- menu_item.category_id can be joined with menu_category.category_id -- Connects each menu item to its category.\\n-- employee.restaurant_id can be joined with restaurant.restaurant_id -- Ties employees to the restaurant they work at.\\n-- order_.restaurant_id can be joined with restaurant.restaurant_id -- Links orders to the restaurant where they were placed.\\n-- order_.employee_id can be joined with employee.employee_id -- Connects orders to the employee who processed them.\\n-- order_.customer_id can be joined with customer.customer_id -- Associates orders with the customer who placed them.\\n-- order_detail.order_id can be joined with order_.order_id -- Ties order details to their corresponding order.\\n-- order_detail.item_id can be joined with menu_item.item_id -- Links order details to the specific menu item ordered.\\n-- feedback.customer_id can be joined with customer.customer_id -- Connects feedback to the customer providing it.\\n-- feedback.restaurant_id can be joined with restaurant.restaurant_id -- Associates feedback with the restaurant being reviewed.', 'model': 'llama3.2:3b', 'question': ChatResponse(model='llama3.2:3b', created_at='2025-03-24T11:30:27.517410689Z', done=True, done_reason='stop', total_duration=1562586266, load_duration=23470366, prompt_eval_count=1122, prompt_eval_duration=479982057, eval_count=62, eval_duration=1057785893, message=Message(role='assistant', content=\"Here's a sample text question based on the given database schema:\\n\\nWhat is the total amount spent by each customer at a specific restaurant if we consider all orders placed by that customer and their corresponding order details? Also, please list the names of all menu items ordered for these customers along with their respective quantities.\", images=None, tool_calls=None)), 'sqlanswer': \"SELECT \\n    c.first_name,\\n    c.email,\\n    COALESCE(SUM(od.subtotal), 0) AS total_amount_spent,\\n    COALESCE(COUNT(DISTINCT od.item_id), 0) AS num_menu_items_ordered,\\n    GROUP_CONCAT(m.item_name, ', ') AS menu_item_names\\nFROM \\n    customer c\\nJOIN \\n    order_ o ON c.customer_id = o.customer_id\\nJOIN \\n    order_detail od ON o.order_id = od.order_id\\nJOIN \\n    menu_item m ON od.item_id = m.item_id\\nGROUP BY \\n    c.first_name, c.email\\nORDER BY \\n    total_amount_spent DESC;\", 'rating': '10'}\n",
      "**************************************************\n",
      "SELECT v.model, s.sale_price, s.sale_date FROM inventory i JOIN vehicle_type vt ON i.vehicle_id = vt.type_id JOIN sale s ON i.vehicle_id = s.vehicle_id JOIN customer c ON s.customer_id = c.customer_id WHERE c.first_name LIKE 'J%' AND i.stock_level > 0\n",
      "**************************************************\n",
      "{'schema': 'CREATE TABLE vehicle_type (\\n    type_id INT PRIMARY KEY AUTO_INCREMENT, -- Unique ID for each vehicle type, automatically incremented\\n    type_name VARCHAR(50) -- Name of the vehicle type (e.g., Sedan, Truck)\\n);\\n\\nCREATE TABLE vehicle (\\n    vehicle_id INT PRIMARY KEY AUTO_INCREMENT, -- Unique ID for each vehicle, automatically incremented\\n    type_id INT, -- ID of the vehicle type this vehicle belongs to\\n    model VARCHAR(100), -- Model name of the vehicle (e.g., \"Camry\")\\n    manufacturer VARCHAR(50), -- Name of the vehicle manufacturer (e.g., \"Toyota\")\\n    price DECIMAL(12,2), -- Price of the vehicle\\n    stock INT, -- Current stock quantity of the vehicle\\n    FOREIGN KEY (type_id) REFERENCES vehicle_type(type_id) -- Links to vehicle_type table\\n);\\n\\nCREATE TABLE customer (\\n    customer_id INT PRIMARY KEY AUTO_INCREMENT, -- Unique ID for each customer, automatically incremented\\n    first_name VARCHAR(50), -- Customer\\'s first name\\n    last_name VARCHAR(50), -- Customer\\'s last name\\n    email VARCHAR(100) -- Customer\\'s email address\\n);\\n\\nCREATE TABLE employee (\\n    employee_id INT PRIMARY KEY AUTO_INCREMENT, -- Unique ID for each employee, automatically incremented\\n    first_name VARCHAR(50), -- Employee\\'s first name\\n    last_name VARCHAR(50), -- Employee\\'s last name\\n    role VARCHAR(50) -- Employee\\'s job role (e.g., Salesperson, Mechanic)\\n);\\n\\nCREATE TABLE sale (\\n    sale_id INT PRIMARY KEY AUTO_INCREMENT, -- Unique ID for each sale, automatically incremented\\n    vehicle_id INT, -- ID of the vehicle sold\\n    customer_id INT, -- ID of the customer who purchased the vehicle\\n    employee_id INT, -- ID of the employee who facilitated the sale\\n    sale_date DATE, -- Date when the sale occurred\\n    sale_price DECIMAL(12,2), -- Final sale price of the vehicle\\n    FOREIGN KEY (vehicle_id) REFERENCES vehicle(vehicle_id), -- Links to vehicle table\\n    FOREIGN KEY (customer_id) REFERENCES customer(customer_id), -- Links to customer table\\n    FOREIGN KEY (employee_id) REFERENCES employee(employee_id) -- Links to employee table\\n);\\n\\nCREATE TABLE service (\\n    service_id INT PRIMARY KEY AUTO_INCREMENT, -- Unique ID for each service record, automatically incremented\\n    vehicle_id INT, -- ID of the vehicle being serviced\\n    customer_id INT, -- ID of the customer requesting the service\\n    service_date DATE, -- Date when the service was performed\\n    cost DECIMAL(10,2), -- Cost of the service\\n    FOREIGN KEY (vehicle_id) REFERENCES vehicle(vehicle_id), -- Links to vehicle table\\n    FOREIGN KEY (customer_id) REFERENCES customer(customer_id) -- Links to customer table\\n);\\n\\nCREATE TABLE supplier (\\n    supplier_id INT PRIMARY KEY AUTO_INCREMENT, -- Unique ID for each supplier, automatically incremented\\n    supplier_name VARCHAR(100), -- Name of the supplier company or entity\\n    contact VARCHAR(100) -- Contact information for the supplier (e.g., phone, email)\\n);\\n\\nCREATE TABLE inventory (\\n    inventory_id INT PRIMARY KEY AUTO_INCREMENT, -- Unique ID for each inventory record, automatically incremented\\n    vehicle_id INT, -- ID of the vehicle being tracked\\n    supplier_id INT, -- ID of the supplier providing the vehicle\\n    stock_level INT, -- Current stock level of the vehicle\\n    FOREIGN KEY (vehicle_id) REFERENCES vehicle(vehicle_id), -- Links to vehicle table\\n    FOREIGN KEY (supplier_id) REFERENCES supplier(supplier_id) -- Links to supplier table\\n);\\n\\nCREATE TABLE feedback (\\n    feedback_id INT PRIMARY KEY AUTO_INCREMENT, -- Unique ID for each feedback entry, automatically incremented\\n    customer_id INT, -- ID of the customer providing the feedback\\n    rating INT, -- Rating given by the customer (e.g., 1 to 5)\\n    comments TEXT, -- Additional comments or notes from the customer\\n    FOREIGN KEY (customer_id) REFERENCES customer(customer_id) -- Links to customer table\\n);\\n\\n\\n\\n\\n-- vehicle.type_id can be joined with vehicle_type.type_id -- Connects each vehicle to its type.\\n-- sale.vehicle_id can be joined with vehicle.vehicle_id -- Ties sales to the vehicle sold.\\n-- sale.customer_id can be joined with customer.customer_id -- Links sales to the customer who purchased the vehicle.\\n-- sale.employee_id can be joined with employee.employee_id -- Associates sales with the employee who facilitated them.\\n-- service.vehicle_id can be joined with vehicle.vehicle_id -- Connects service records to the vehicle being serviced.\\n-- service.customer_id can be joined with customer.customer_id -- Links service records to the customer requesting them.\\n-- inventory.vehicle_id can be joined with vehicle.vehicle_id -- Ties inventory records to the vehicle being tracked.\\n-- inventory.supplier_id can be joined with supplier.supplier_id -- Associates inventory with the supplier providing the vehicle.\\n-- feedback.customer_id can be joined with customer.customer_id -- Connects feedback to the customer providing it.-- ', 'model': 'llama3.2:3b', 'question': ChatResponse(model='llama3.2:3b', created_at='2025-03-24T11:30:35.159936652Z', done=True, done_reason='stop', total_duration=3231983450, load_duration=25356265, prompt_eval_count=1188, prompt_eval_duration=485028273, eval_count=158, eval_duration=2720857837, message=Message(role='assistant', content='Here\\'s a text question based on the given database schema that requires joins and aliases:\\n\\n\"Write a SQL query to find all vehicles that are currently in stock and were sold by employees who work in the sales department, along with their sale prices and dates, but only show the results for customers whose names start with \\'J\\'. Also, use an alias `v` for the `vehicle` table and `s` for the `sale` table. Ensure that you join all necessary tables correctly.\"\\n\\nThis question requires joins between `inventory`, `sale`, `employee`, and `customer` tables, as well as aliasing to improve readability and clarity. It also includes a condition to filter customers based on their names starting with \\'J\\', adding an extra layer of complexity to the query.', images=None, tool_calls=None)), 'sqlanswer': \"SELECT v.model, s.sale_price, s.sale_date FROM inventory i JOIN vehicle_type vt ON i.vehicle_id = vt.type_id JOIN sale s ON i.vehicle_id = s.vehicle_id JOIN customer c ON s.customer_id = c.customer_id WHERE c.first_name LIKE 'J%' AND i.stock_level > 0\", 'rating': '9'}\n",
      "**************************************************\n",
      "SELECT plan.name, c.first_name, p.amount FROM subscription s JOIN plan p ON s.plan_id = p.plan_id JOIN customer c ON s.customer_id = c.customer_id JOIN payment p1 ON s.subscription_id = p1.subscription_id WHERE p.monthly_price > 20 AND s.status = 'ACTIVE' GROUP BY s.subscription_id HAVING COUNT(DISTINCT CASE WHEN f.rating >= 5 THEN f.rating END) != NULL\n",
      "**************************************************\n",
      "{'schema': 'CREATE TABLE customer (\\n    customer_id INT PRIMARY KEY AUTO_INCREMENT, -- Unique ID for each customer, automatically incremented\\n    first_name VARCHAR(50), -- Customer\\'s first name\\n    email VARCHAR(100) UNIQUE -- Customer\\'s unique email address\\n);\\n\\nCREATE TABLE plan (\\n    plan_id INT PRIMARY KEY AUTO_INCREMENT, -- Unique ID for each subscription plan, automatically incremented\\n    plan_name VARCHAR(50), -- Name of the plan (e.g., \"Basic\", \"Premium\")\\n    monthly_price DECIMAL(10,2) -- Monthly cost of the plan\\n);\\n\\nCREATE TABLE subscription (\\n    subscription_id INT PRIMARY KEY AUTO_INCREMENT, -- Unique ID for each subscription, automatically incremented\\n    customer_id INT, -- ID of the customer who subscribed\\n    plan_id INT, -- ID of the plan subscribed to\\n    start_date DATE, -- Date when the subscription began\\n    end_date DATE, -- Date when the subscription ends (if applicable)\\n    status ENUM(\\'ACTIVE\\', \\'CANCELLED\\'), -- Current status of the subscription\\n    FOREIGN KEY (customer_id) REFERENCES customer(customer_id), -- Links to customer table\\n    FOREIGN KEY (plan_id) REFERENCES plan(plan_id) -- Links to plan table\\n);\\n\\nCREATE TABLE payment (\\n    payment_id INT PRIMARY KEY AUTO_INCREMENT, -- Unique ID for each payment, automatically incremented\\n    subscription_id INT, -- ID of the subscription this payment is for\\n    amount DECIMAL(10,2), -- Amount paid\\n    payment_date DATE, -- Date when the payment was made\\n    method ENUM(\\'CARD\\', \\'PAYPAL\\', \\'BANK\\'), -- Payment method used (Credit Card, PayPal, Bank Transfer)\\n    FOREIGN KEY (subscription_id) REFERENCES subscription(subscription_id) -- Links to subscription table\\n);\\n\\nCREATE TABLE usage (\\n    usage_id INT PRIMARY KEY AUTO_INCREMENT, -- Unique ID for each usage record, automatically incremented\\n    subscription_id INT, -- ID of the subscription this usage pertains to\\n    usage_date DATE, -- Date when the usage was recorded\\n    metric_value INT, -- Measured value of usage (e.g., data in MB, minutes used)\\n    FOREIGN KEY (subscription_id) REFERENCES subscription(subscription_id) -- Links to subscription table\\n);\\n\\nCREATE TABLE employee (\\n    employee_id INT PRIMARY KEY AUTO_INCREMENT, -- Unique ID for each employee, automatically incremented\\n    first_name VARCHAR(50), -- Employee\\'s first name\\n    role VARCHAR(50) -- Employee\\'s job role (e.g., Support Agent, Manager)\\n);\\n\\nCREATE TABLE support_ticket (\\n    ticket_id INT PRIMARY KEY AUTO_INCREMENT, -- Unique ID for each support ticket, automatically incremented\\n    customer_id INT, -- ID of the customer who raised the ticket\\n    employee_id INT, -- ID of the employee handling the ticket\\n    issue TEXT, -- Description of the customer\\'s issue\\n    status ENUM(\\'OPEN\\', \\'CLOSED\\'), -- Current status of the ticket\\n    FOREIGN KEY (customer_id) REFERENCES customer(customer_id), -- Links to customer table\\n    FOREIGN KEY (employee_id) REFERENCES employee(employee_id) -- Links to employee table\\n);\\n\\nCREATE TABLE feedback (\\n    feedback_id INT PRIMARY KEY AUTO_INCREMENT, -- Unique ID for each feedback entry, automatically incremented\\n    customer_id INT, -- ID of the customer providing the feedback\\n    rating INT, -- Rating given by the customer (e.g., 1 to 5)\\n    comments TEXT, -- Additional comments or notes from the customer\\n    FOREIGN KEY (customer_id) REFERENCES customer(customer_id) -- Links to customer table\\n);\\n\\n\\n\\n-- subscription.customer_id can be joined with customer.customer_id -- Connects subscriptions to the customer who subscribed.\\n-- subscription.plan_id can be joined with plan.plan_id -- Links subscriptions to the specific plan subscribed to.\\n-- payment.subscription_id can be joined with subscription.subscription_id -- Ties payments to their corresponding subscription.\\n-- usage.subscription_id can be joined with subscription.subscription_id -- Associates usage records with the subscription they pertain to.\\n-- support_ticket.customer_id can be joined with customer.customer_id -- Links support tickets to the customer who raised them.\\n-- support_ticket.employee_id can be joined with employee.employee_id -- Connects support tickets to the employee handling them.\\n-- feedback.customer_id can be joined with customer.customer_id -- Ties feedback to the customer providing it.-- ', 'model': 'llama3.2:3b', 'question': ChatResponse(model='llama3.2:3b', created_at='2025-03-24T11:30:40.76382552Z', done=True, done_reason='stop', total_duration=2402652838, load_duration=23528306, prompt_eval_count=1040, prompt_eval_duration=261341028, eval_count=115, eval_duration=2117031846, message=Message(role='assistant', content='Here\\'s a sample text question that requires joins and aliases to increase difficulty:\\n\\n\"Write an SQL query that retrieves the plan name, customer first name, and payment amount for each subscription where the monthly price of the plan is greater than 20. The query should also include the total number of active subscriptions and the average rating given by customers who are currently subscribed to a premium plan.\"\\n\\nThis question requires joins between multiple tables (plan, customer, and payment) and uses aliases to simplify the query. It also includes sub-queries and aggregations to further increase the complexity.', images=None, tool_calls=None)), 'sqlanswer': \"SELECT plan.name, c.first_name, p.amount FROM subscription s JOIN plan p ON s.plan_id = p.plan_id JOIN customer c ON s.customer_id = c.customer_id JOIN payment p1 ON s.subscription_id = p1.subscription_id WHERE p.monthly_price > 20 AND s.status = 'ACTIVE' GROUP BY s.subscription_id HAVING COUNT(DISTINCT CASE WHEN f.rating >= 5 THEN f.rating END) != NULL\", 'rating': '6'}\n",
      "**************************************************\n",
      "SELECT SUM(inventory.subtotal * inventory.quantity) FROM inventory JOIN product ON inventory.product_id = product.product_id JOIN supplier ON inventory.supplier_id = supplier.supplier_id JOIN warehouse ON inventory.warehouse_id = warehouse.warehouse_id WHERE inventory.stock_level > 100 GROUP BY inventory.supplier_id\n",
      "**************************************************\n",
      "{'schema': 'CREATE TABLE warehouse (\\n    warehouse_id INT PRIMARY KEY AUTO_INCREMENT, -- Unique ID for each warehouse, automatically incremented\\n    location VARCHAR(100), -- Physical location or address of the warehouse\\n    capacity INT -- Maximum storage capacity of the warehouse (e.g., in units or volume)\\n);\\n\\nCREATE TABLE product_category (\\n    category_id INT PRIMARY KEY AUTO_INCREMENT, -- Unique ID for each product category, automatically incremented\\n    category_name VARCHAR(50) -- Name of the product category (e.g., Electronics, Furniture)\\n);\\n\\nCREATE TABLE product (\\n    product_id INT PRIMARY KEY AUTO_INCREMENT, -- Unique ID for each product, automatically incremented\\n    category_id INT, -- ID of the category this product belongs to\\n    product_name VARCHAR(100), -- Name of the product (e.g., \"LED TV\")\\n    wholesale_price DECIMAL(10,2), -- Wholesale price per unit of the product\\n    FOREIGN KEY (category_id) REFERENCES product_category(category_id) -- Links to product_category table\\n);\\n\\nCREATE TABLE supplier (\\n    supplier_id INT PRIMARY KEY AUTO_INCREMENT, -- Unique ID for each supplier, automatically incremented\\n    supplier_name VARCHAR(100), -- Name of the supplier company or entity\\n    contact VARCHAR(100) -- Contact information for the supplier (e.g., phone, email)\\n);\\n\\nCREATE TABLE customer (\\n    customer_id INT PRIMARY KEY AUTO_INCREMENT, -- Unique ID for each customer, automatically incremented\\n    company_name VARCHAR(100), -- Name of the customer company or entity\\n    contact VARCHAR(100) -- Contact information for the customer (e.g., phone, email)\\n);\\n\\nCREATE TABLE employee (\\n    employee_id INT PRIMARY KEY AUTO_INCREMENT, -- Unique ID for each employee, automatically incremented\\n    first_name VARCHAR(50), -- Employee\\'s first name\\n    warehouse_id INT, -- ID of the warehouse where the employee works\\n    role VARCHAR(50), -- Employee\\'s job role (e.g., Warehouse Manager, Order Picker)\\n    FOREIGN KEY (warehouse_id) REFERENCES warehouse(warehouse_id) -- Links to warehouse table\\n);\\n\\nCREATE TABLE order_ (\\n    order_id INT PRIMARY KEY AUTO_INCREMENT, -- Unique ID for each order, automatically incremented\\n    customer_id INT, -- ID of the customer who placed the order\\n    warehouse_id INT, -- ID of the warehouse fulfilling the order\\n    employee_id INT, -- ID of the employee who processed the order\\n    order_date DATE, -- Date when the order was placed\\n    total_amount DECIMAL(10,2), -- Total monetary amount of the order\\n    FOREIGN KEY (customer_id) REFERENCES customer(customer_id), -- Links to customer table\\n    FOREIGN KEY (warehouse_id) REFERENCES warehouse(warehouse_id), -- Links to warehouse table\\n    FOREIGN KEY (employee_id) REFERENCES employee(employee_id) -- Links to employee table\\n);\\n\\nCREATE TABLE order_detail (\\n    order_detail_id INT PRIMARY KEY AUTO_INCREMENT, -- Unique ID for each order detail, automatically incremented\\n    order_id INT, -- ID of the order this detail belongs to\\n    product_id INT, -- ID of the product ordered\\n    quantity INT, -- Number of units of the product ordered\\n    subtotal DECIMAL(10,2), -- Subtotal amount for this specific product in the order\\n    FOREIGN KEY (order_id) REFERENCES order_(order_id), -- Links to order_ table\\n    FOREIGN KEY (product_id) REFERENCES product(product_id) -- Links to product table\\n);\\n\\nCREATE TABLE inventory (\\n    inventory_id INT PRIMARY KEY AUTO_INCREMENT, -- Unique ID for each inventory record, automatically incremented\\n    product_id INT, -- ID of the product being tracked\\n    warehouse_id INT, -- ID of the warehouse storing the product\\n    supplier_id INT, -- ID of the supplier providing the product\\n    stock_level INT, -- Current stock quantity of the product in the warehouse\\n    FOREIGN KEY (product_id) REFERENCES product(product_id), -- Links to product table\\n    FOREIGN KEY (warehouse_id) REFERENCES warehouse(warehouse_id), -- Links to warehouse table\\n    FOREIGN KEY (supplier_id) REFERENCES supplier(supplier_id) -- Links to supplier table\\n);\\n\\nCREATE TABLE shipment (\\n    shipment_id INT PRIMARY KEY AUTO_INCREMENT, -- Unique ID for each shipment, automatically incremented\\n    order_id INT, -- ID of the order being shipped\\n    shipment_date DATE, -- Date when the shipment was sent\\n    tracking_number VARCHAR(50), -- Tracking number for the shipment\\n    FOREIGN KEY (order_id) REFERENCES order_(order_id) -- Links to order_ table\\n);\\n\\n\\n\\n\\n-- product.category_id can be joined with product_category.category_id -- Connects each product to its category.\\n-- employee.warehouse_id can be joined with warehouse.warehouse_id -- Ties employees to the warehouse they work at.\\n-- order_.customer_id can be joined with customer.customer_id -- Links orders to the customer who placed them.\\n-- order_.warehouse_id can be joined with warehouse.warehouse_id -- Associates orders with the warehouse fulfilling them.\\n-- order_.employee_id can be joined with employee.employee_id -- Connects orders to the employee who processed them.\\n-- order_detail.order_id can be joined with order_.order_id -- Ties order details to their corresponding order.\\n-- order_detail.product_id can be joined with product.product_id -- Links order details to the specific product ordered.\\n-- inventory.product_id can be joined with product.product_id -- Associates inventory records with the product being tracked.\\n-- inventory.warehouse_id can be joined with warehouse.warehouse_id -- Connects inventory to the warehouse storing it.\\n-- inventory.supplier_id can be joined with supplier.supplier_id -- Links inventory to the supplier providing the product.\\n-- shipment.order_id can be joined with order_.order_id -- Ties shipments to the order being shipped.-- ', 'model': 'llama3.2:3b', 'question': ChatResponse(model='llama3.2:3b', created_at='2025-03-24T11:30:46.449138059Z', done=True, done_reason='stop', total_duration=2072806173, load_duration=26265687, prompt_eval_count=1334, prompt_eval_duration=499812109, eval_count=83, eval_duration=1545962604, message=Message(role='assistant', content='Here\\'s a sample text question that requires joins and aliases to increase difficulty:\\n\\n\"What is the total revenue generated by each supplier for all products in the warehouse with a stock level greater than 100 units?\"\\n\\nThis question requires joining multiple tables (inventory, product, supplier) and using aliases to refer to columns in the joined tables. It also requires filtering data based on specific conditions (stock level > 100 units).', images=None, tool_calls=None)), 'sqlanswer': 'SELECT SUM(inventory.subtotal * inventory.quantity) FROM inventory JOIN product ON inventory.product_id = product.product_id JOIN supplier ON inventory.supplier_id = supplier.supplier_id JOIN warehouse ON inventory.warehouse_id = warehouse.warehouse_id WHERE inventory.stock_level > 100 GROUP BY inventory.supplier_id', 'rating': '8'}\n",
      "**************************************************\n",
      "SELECT SUM(p.price * t.quantity) AS total_revenue FROM sales AS s INNER JOIN customers AS c ON s.customer_id = c.customer_id INNER JOIN salespeople AS sp ON s.salesperson_id = sp.salesperson_id INNER JOIN products AS p ON s.product_id = p.product_id INNER JOIN product_suppliers AS ps ON p.product_id = ps.product_id WHERE sp.name = 'John Doe' AND sp.region = 'North' AND p.name = 'Product A' AND c.address LIKE '%New York City%'\n",
      "**************************************************\n",
      "{'schema': '    CREATE TABLE products (\\n    product_id INTEGER PRIMARY KEY, -- Unique ID for each product\\n    name VARCHAR(50), -- Name of the product\\n    price DECIMAL(10,2), -- Price of each unit of the product\\n    quantity INTEGER  -- Current quantity in stock\\n    );\\n\\n    CREATE TABLE customers (\\n    customer_id INTEGER PRIMARY KEY, -- Unique ID for each customer\\n    name VARCHAR(50), -- Name of the customer\\n    address VARCHAR(100) -- Mailing address of the customer\\n    );\\n\\n    CREATE TABLE salespeople (\\n    salesperson_id INTEGER PRIMARY KEY, -- Unique ID for each salesperson\\n    name VARCHAR(50), -- Name of the salesperson\\n    region VARCHAR(50) -- Geographic sales region\\n    );\\n\\n    CREATE TABLE sales (\\n    sale_id INTEGER PRIMARY KEY, -- Unique ID for each sale\\n    product_id INTEGER, -- ID of product sold\\n    customer_id INTEGER,  -- ID of customer who made purchase\\n    salesperson_id INTEGER, -- ID of salesperson who made the sale\\n    sale_date DATE, -- Date the sale occurred\\n    quantity INTEGER -- Quantity of product sold\\n    );\\n\\n    CREATE TABLE product_suppliers (\\n    supplier_id INTEGER PRIMARY KEY, -- Unique ID for each supplier\\n    product_id INTEGER, -- Product ID supplied\\n    supply_price DECIMAL(10,2) -- Unit price charged by supplier\\n    );\\n\\n    -- sales.product_id can be joined with products.product_id\\n    -- sales.customer_id can be joined with customers.customer_id\\n    -- sales.salesperson_id can be joined with salespeople.salesperson_id\\n    -- product_suppliers.product_id can be joined with products.product_id\\n', 'model': 'llama3.2:3b', 'question': ChatResponse(model='llama3.2:3b', created_at='2025-03-24T11:30:51.682139432Z', done=True, done_reason='stop', total_duration=2102406947, load_duration=23760495, prompt_eval_count=514, prompt_eval_duration=31310300, eval_count=117, eval_duration=2046621142, message=Message(role='assistant', content=\"Here's a sample text question based on the given database schema:\\n\\nWhat is the total revenue generated by salesperson 'John Doe' in the North region who sold products with a quantity of 10 units and a price of $15.00 per unit to customers from addresses in New York City, considering that product A has a supply price of $12.00 and John's commission rate is 10%?\\n\\nThis question requires joins between `sales`, `customers`, `salespeople`, `products` and `product_suppliers` tables with proper aliases to extract the required information.\", images=None, tool_calls=None)), 'sqlanswer': \"SELECT SUM(p.price * t.quantity) AS total_revenue FROM sales AS s INNER JOIN customers AS c ON s.customer_id = c.customer_id INNER JOIN salespeople AS sp ON s.salesperson_id = sp.salesperson_id INNER JOIN products AS p ON s.product_id = p.product_id INNER JOIN product_suppliers AS ps ON p.product_id = ps.product_id WHERE sp.name = 'John Doe' AND sp.region = 'North' AND p.name = 'Product A' AND c.address LIKE '%New York City%'\", 'rating': '7'}\n",
      "**************************************************\n"
     ]
    }
   ],
   "source": [
    "# import ollama\n",
    "\n",
    "# # model_list = ['qwen2.5:7b','gemma3:4b','gemma3:12b','phi3:latest','phi3:14b','phi3.5:latest','phi4:latest','phi4-mini:latest']\n",
    "\n",
    "# model_list = ['llama3.2:3b']#'qwen2.5:7b','gemma3:4b','gemma3:12b','phi3:latest','phi3:14b','phi3.5:latest','phi4:latest','phi4-mini:latest']\n",
    "\n",
    "# dict=[]\n",
    "\n",
    "# # textquestion_llm = llm_gemini\n",
    "\n",
    "# for model in model_list:\n",
    "#     for i in range(10):\n",
    "#         FILENAME = f\"table_list{i+1}_exp.sql\"\n",
    "\n",
    "#         llm_question = ollama.chat(model=model,messages=[\n",
    "#             {\n",
    "#                 'role':'user',\n",
    "#                 'content':get_question_prompt(\n",
    "#                     sql_file=FILENAME\n",
    "#                 )\n",
    "#             }\n",
    "#         ])\n",
    "\n",
    "#         # llm_question = llm_gemini.invoke(\n",
    "#         #     input=get_question_prompt(FILENAME)\n",
    "#         # )\n",
    "\n",
    "#         response = ollama.chat(model=model, messages=[\n",
    "#         {\n",
    "#             'role': 'user',\n",
    "#             'content': get_custom_prompt(\n",
    "#                 question = llm_question,\n",
    "#                 sql_file = FILENAME\n",
    "#             )\n",
    "#         },\n",
    "#         ])\n",
    "\n",
    "#         res = response['message']['content']\n",
    "#         print(res)\n",
    "#         responses.append(res)\n",
    "\n",
    "#         rating = get_ratings(\n",
    "#             schema = f\"table_list{i+1}_exp.sql\",\n",
    "#             question = llm_question,\n",
    "#             answer = res,\n",
    "#         )\n",
    "#         ratings.append(rating)\n",
    "\n",
    "#         d={\n",
    "#             'schema':read_file(FILENAME),\n",
    "#             'model':model,\n",
    "#             'question':llm_question,\n",
    "#             'sqlanswer':res,\n",
    "#             'rating':rating\n",
    "#         }\n",
    "\n",
    "#         dict.append(d)\n",
    "\n",
    "        \n",
    "#         print('*'*50)\n",
    "#         print(d)\n",
    "#         print('*'*50)"
   ]
  },
  {
   "cell_type": "code",
   "execution_count": 28,
   "metadata": {},
   "outputs": [],
   "source": [
    "import ollama\n",
    "\n",
    "# model_list = ['qwen2.5:7b','gemma3:4b','phi3','phi3.5']\n",
    "model_list = ['llama3.2:3b']\n",
    "\n",
    "dict=[]\n",
    "\n",
    "for model in model_list:\n",
    "    \n",
    "    for i in range(10):\n",
    "        FILENAME = f\"table_list{i+1}_exp.sql\"\n",
    "\n",
    "        response = ollama.chat(model=model, messages=[\n",
    "        {\n",
    "            'role': 'user',\n",
    "            # 'content': get_prompt(\"What are the names and prices of all drugs in the 'Antibiotics' category?\")\n",
    "            'content': get_custom_prompt(\n",
    "                question = questions[i],\n",
    "                sql_file = FILENAME\n",
    "            )\n",
    "            # 'content': get_prompt(\"Which pharmacies have sold more than 100 units of drugs from the 'Painkillers' category in the last 30 days, and what is the total revenue generated from those sales, including the names of the employees who made the sales?\")\n",
    "        },\n",
    "        ])\n",
    "\n",
    "        res = response['message']['content']\n",
    "        \n",
    "\n",
    "        responses.append(res)\n",
    "\n",
    "        rating = get_ratings(\n",
    "            schema = f\"table_list{i+1}_exp.sql\",\n",
    "            question = questions[i],\n",
    "            answer = res,\n",
    "        )\n",
    "\n",
    "        ratings.append(rating)\n",
    "\n",
    "        d={\n",
    "            'schema':read_file(FILENAME),\n",
    "            'model':model,\n",
    "            'question':questions[i],\n",
    "            'sqlanswer':res,\n",
    "            'rating':rating\n",
    "        }\n",
    "\n",
    "        dict.append(d)\n",
    "\n",
    "\n"
   ]
  },
  {
   "cell_type": "code",
   "execution_count": 29,
   "metadata": {},
   "outputs": [
    {
     "name": "stdout",
     "output_type": "stream",
     "text": [
      "SELECT e.first_name, e.last_name, d.department_name, s.store_name, SUM(sai.quantity) AS total_quantity FROM employee e JOIN store s ON e.store_id = s.store_id JOIN department d ON e.department_id = d.department_id JOIN product p ON s.id = p.category_id WHERE p.category_name IN ('TVs', 'Shirts') AND sales.sale_date >= '2022-01-01' GROUP BY e.first_name, e.last_name, d.department_name, s.store_name;\n"
     ]
    }
   ],
   "source": [
    "print(responses[1])"
   ]
  },
  {
   "cell_type": "code",
   "execution_count": 31,
   "metadata": {},
   "outputs": [
    {
     "data": {
      "text/plain": [
       "20"
      ]
     },
     "execution_count": 31,
     "metadata": {},
     "output_type": "execute_result"
    }
   ],
   "source": [
    "len(ratings)"
   ]
  },
  {
   "cell_type": "code",
   "execution_count": 33,
   "metadata": {},
   "outputs": [
    {
     "name": "stdout",
     "output_type": "stream",
     "text": [
      "llama3.2:3b --- 9\n",
      "llama3.2:3b --- 7\n",
      "llama3.2:3b --- 8\n",
      "llama3.2:3b --- 8\n",
      "llama3.2:3b --- 9\n",
      "llama3.2:3b --- 6\n",
      "llama3.2:3b --- 6\n",
      "llama3.2:3b --- 9\n",
      "llama3.2:3b --- 9\n",
      "llama3.2:3b --- 6\n"
     ]
    }
   ],
   "source": [
    "for d in dict:\n",
    "    print(f\"{d['model']} --- {d['rating']}\")"
   ]
  },
  {
   "cell_type": "code",
   "execution_count": 45,
   "metadata": {},
   "outputs": [],
   "source": [
    "import pandas as pd\n",
    "\n",
    "df = pd.DataFrame(dict)"
   ]
  },
  {
   "cell_type": "code",
   "execution_count": 46,
   "metadata": {},
   "outputs": [
    {
     "data": {
      "text/html": [
       "<div>\n",
       "<style scoped>\n",
       "    .dataframe tbody tr th:only-of-type {\n",
       "        vertical-align: middle;\n",
       "    }\n",
       "\n",
       "    .dataframe tbody tr th {\n",
       "        vertical-align: top;\n",
       "    }\n",
       "\n",
       "    .dataframe thead th {\n",
       "        text-align: right;\n",
       "    }\n",
       "</style>\n",
       "<table border=\"1\" class=\"dataframe\">\n",
       "  <thead>\n",
       "    <tr style=\"text-align: right;\">\n",
       "      <th></th>\n",
       "      <th>schema</th>\n",
       "      <th>model</th>\n",
       "      <th>question</th>\n",
       "      <th>sqlanswer</th>\n",
       "      <th>rating</th>\n",
       "    </tr>\n",
       "  </thead>\n",
       "  <tbody>\n",
       "    <tr>\n",
       "      <th>0</th>\n",
       "      <td>\\n    CREATE TABLE supplier (\\n    supplie...</td>\n",
       "      <td>llama3.2:3b</td>\n",
       "      <td>List all drugs in the 'Painkillers' category w...</td>\n",
       "      <td>SELECT d.drug_name, s.supplier_name, i.last_up...</td>\n",
       "      <td>9</td>\n",
       "    </tr>\n",
       "    <tr>\n",
       "      <th>1</th>\n",
       "      <td>CREATE TABLE store (\\n    store_id INT PRIMARY...</td>\n",
       "      <td>llama3.2:3b</td>\n",
       "      <td>Identify the top 5 products by total sales amo...</td>\n",
       "      <td>SELECT T1.product_name, T3.category_name, T2.l...</td>\n",
       "      <td>7</td>\n",
       "    </tr>\n",
       "    <tr>\n",
       "      <th>2</th>\n",
       "      <td>CREATE TABLE user (\\n    user_id INT PRIMARY K...</td>\n",
       "      <td>llama3.2:3b</td>\n",
       "      <td>Find the top 3 products with the highest avera...</td>\n",
       "      <td>SELECT product_name, \\n       c.category_name,...</td>\n",
       "      <td>8</td>\n",
       "    </tr>\n",
       "    <tr>\n",
       "      <th>3</th>\n",
       "      <td>CREATE TABLE agent (\\n    agent_id INT PRIMARY...</td>\n",
       "      <td>llama3.2:3b</td>\n",
       "      <td>List all agents who have facilitated sales of ...</td>\n",
       "      <td>SELECT \\n    A.first_name,\\n    A.last_name,\\n...</td>\n",
       "      <td>8</td>\n",
       "    </tr>\n",
       "    <tr>\n",
       "      <th>4</th>\n",
       "      <td>CREATE TABLE supplier (\\n    supplier_id INT P...</td>\n",
       "      <td>llama3.2:3b</td>\n",
       "      <td>Identify the top 5 products by total sales amo...</td>\n",
       "      <td>SELECT p.product_name, e.first_name, COALESCE(...</td>\n",
       "      <td>9</td>\n",
       "    </tr>\n",
       "    <tr>\n",
       "      <th>5</th>\n",
       "      <td>CREATE TABLE restaurant (\\n    restaurant_id I...</td>\n",
       "      <td>llama3.2:3b</td>\n",
       "      <td>Retrieve the first name of customers who have ...</td>\n",
       "      <td>SELECT c.first_name , r.name , COALESCE(SUM(od...</td>\n",
       "      <td>6</td>\n",
       "    </tr>\n",
       "    <tr>\n",
       "      <th>6</th>\n",
       "      <td>CREATE TABLE vehicle_type (\\n    type_id INT P...</td>\n",
       "      <td>llama3.2:3b</td>\n",
       "      <td>Retrieve the first and last name of customers ...</td>\n",
       "      <td>SELECT T1.first_name, T1.last_name, T3.model, ...</td>\n",
       "      <td>6</td>\n",
       "    </tr>\n",
       "    <tr>\n",
       "      <th>7</th>\n",
       "      <td>CREATE TABLE customer (\\n    customer_id INT P...</td>\n",
       "      <td>llama3.2:3b</td>\n",
       "      <td>How can you retrieve a list of all active subs...</td>\n",
       "      <td>SELECT c.first_name , p.plan_name , s.start_da...</td>\n",
       "      <td>9</td>\n",
       "    </tr>\n",
       "    <tr>\n",
       "      <th>8</th>\n",
       "      <td>CREATE TABLE warehouse (\\n    warehouse_id INT...</td>\n",
       "      <td>llama3.2:3b</td>\n",
       "      <td>How can you retrieve a report showing the tota...</td>\n",
       "      <td>SELECT t1.product_name ,  SUM(t3.stock_level) ...</td>\n",
       "      <td>9</td>\n",
       "    </tr>\n",
       "    <tr>\n",
       "      <th>9</th>\n",
       "      <td>CREATE TABLE products (\\n    product_id IN...</td>\n",
       "      <td>llama3.2:3b</td>\n",
       "      <td>How can you generate a report showing the tota...</td>\n",
       "      <td>To answer this question with the given Postgre...</td>\n",
       "      <td>6</td>\n",
       "    </tr>\n",
       "  </tbody>\n",
       "</table>\n",
       "</div>"
      ],
      "text/plain": [
       "                                              schema        model  \\\n",
       "0      \\n    CREATE TABLE supplier (\\n    supplie...  llama3.2:3b   \n",
       "1  CREATE TABLE store (\\n    store_id INT PRIMARY...  llama3.2:3b   \n",
       "2  CREATE TABLE user (\\n    user_id INT PRIMARY K...  llama3.2:3b   \n",
       "3  CREATE TABLE agent (\\n    agent_id INT PRIMARY...  llama3.2:3b   \n",
       "4  CREATE TABLE supplier (\\n    supplier_id INT P...  llama3.2:3b   \n",
       "5  CREATE TABLE restaurant (\\n    restaurant_id I...  llama3.2:3b   \n",
       "6  CREATE TABLE vehicle_type (\\n    type_id INT P...  llama3.2:3b   \n",
       "7  CREATE TABLE customer (\\n    customer_id INT P...  llama3.2:3b   \n",
       "8  CREATE TABLE warehouse (\\n    warehouse_id INT...  llama3.2:3b   \n",
       "9      CREATE TABLE products (\\n    product_id IN...  llama3.2:3b   \n",
       "\n",
       "                                            question  \\\n",
       "0  List all drugs in the 'Painkillers' category w...   \n",
       "1  Identify the top 5 products by total sales amo...   \n",
       "2  Find the top 3 products with the highest avera...   \n",
       "3  List all agents who have facilitated sales of ...   \n",
       "4  Identify the top 5 products by total sales amo...   \n",
       "5  Retrieve the first name of customers who have ...   \n",
       "6  Retrieve the first and last name of customers ...   \n",
       "7  How can you retrieve a list of all active subs...   \n",
       "8  How can you retrieve a report showing the tota...   \n",
       "9  How can you generate a report showing the tota...   \n",
       "\n",
       "                                           sqlanswer rating  \n",
       "0  SELECT d.drug_name, s.supplier_name, i.last_up...      9  \n",
       "1  SELECT T1.product_name, T3.category_name, T2.l...      7  \n",
       "2  SELECT product_name, \\n       c.category_name,...      8  \n",
       "3  SELECT \\n    A.first_name,\\n    A.last_name,\\n...      8  \n",
       "4  SELECT p.product_name, e.first_name, COALESCE(...      9  \n",
       "5  SELECT c.first_name , r.name , COALESCE(SUM(od...      6  \n",
       "6  SELECT T1.first_name, T1.last_name, T3.model, ...      6  \n",
       "7  SELECT c.first_name , p.plan_name , s.start_da...      9  \n",
       "8  SELECT t1.product_name ,  SUM(t3.stock_level) ...      9  \n",
       "9  To answer this question with the given Postgre...      6  "
      ]
     },
     "execution_count": 46,
     "metadata": {},
     "output_type": "execute_result"
    }
   ],
   "source": [
    "df"
   ]
  },
  {
   "cell_type": "code",
   "execution_count": 42,
   "metadata": {},
   "outputs": [
    {
     "ename": "AttributeError",
     "evalue": "'NoneType' object has no attribute 'to_csv'",
     "output_type": "error",
     "traceback": [
      "\u001b[31m---------------------------------------------------------------------------\u001b[39m",
      "\u001b[31mAttributeError\u001b[39m                            Traceback (most recent call last)",
      "\u001b[36mCell\u001b[39m\u001b[36m \u001b[39m\u001b[32mIn[42]\u001b[39m\u001b[32m, line 1\u001b[39m\n\u001b[32m----> \u001b[39m\u001b[32m1\u001b[39m \u001b[43mdf\u001b[49m\u001b[43m.\u001b[49m\u001b[43mto_csv\u001b[49m(\u001b[33m'\u001b[39m\u001b[33mresult25.csv\u001b[39m\u001b[33m'\u001b[39m)\n",
      "\u001b[31mAttributeError\u001b[39m: 'NoneType' object has no attribute 'to_csv'"
     ]
    }
   ],
   "source": [
    "df.to_csv('result25.csv')"
   ]
  },
  {
   "cell_type": "code",
   "execution_count": 43,
   "metadata": {},
   "outputs": [],
   "source": [
    "df"
   ]
  },
  {
   "cell_type": "code",
   "execution_count": 44,
   "metadata": {},
   "outputs": [],
   "source": [
    "# df_gemma = df[df['model']=='qwen2.5:7b']\n",
    "# df_gemma"
   ]
  },
  {
   "cell_type": "code",
   "execution_count": null,
   "metadata": {},
   "outputs": [],
   "source": []
  }
 ],
 "metadata": {
  "kernelspec": {
   "display_name": ".venv",
   "language": "python",
   "name": "python3"
  },
  "language_info": {
   "codemirror_mode": {
    "name": "ipython",
    "version": 3
   },
   "file_extension": ".py",
   "mimetype": "text/x-python",
   "name": "python",
   "nbconvert_exporter": "python",
   "pygments_lexer": "ipython3",
   "version": "3.11.9"
  }
 },
 "nbformat": 4,
 "nbformat_minor": 2
}
