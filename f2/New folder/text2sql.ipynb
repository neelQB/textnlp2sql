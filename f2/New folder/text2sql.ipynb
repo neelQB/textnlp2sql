{
 "cells": [
  {
   "cell_type": "code",
   "execution_count": 2,
   "metadata": {},
   "outputs": [
    {
     "name": "stdout",
     "output_type": "stream",
     "text": [
      "^C\n"
     ]
    }
   ],
   "source": [
    "# !pip install -q ollama langchain_google_genai dotenv pandas"
   ]
  },
  {
   "cell_type": "code",
   "execution_count": 3,
   "metadata": {},
   "outputs": [],
   "source": [
    "import ollama\n",
    "from langchain_google_genai import ChatGoogleGenerativeAI\n",
    "from dotenv import load_dotenv\n",
    "import os\n",
    "import pandas as pd"
   ]
  },
  {
   "cell_type": "code",
   "execution_count": 8,
   "metadata": {},
   "outputs": [],
   "source": [
    "def read_file(filename):\n",
    "    file = open(filename,'r')\n",
    "    str = file.read()\n",
    "    return str"
   ]
  },
  {
   "cell_type": "code",
   "execution_count": 9,
   "metadata": {},
   "outputs": [],
   "source": [
    "def get_custom_prompt(question,sql_file):\n",
    "    # schema = open(sql_file,'r').read()\n",
    "\n",
    "\n",
    "    prompt = f\"\"\" \n",
    "    ### Instructions:\n",
    "    Your task is to convert a question into a SQL query, given a Postgres database schema.\n",
    "    Adhere to these rules:\n",
    "    - **Deliberately go through the question and database schema word by word** to appropriately answer the question\n",
    "    - **Use Table Aliases** to prevent ambiguity. For example, `SELECT table1.col1, table2.col1 FROM table1 JOIN table2 ON table1.id = table2.id`.\n",
    "    - When creating a ratio, always cast the numerator as float\n",
    "\n",
    "    ### Input:\n",
    "    Generate a SQL query that answers the question `{question}`.\n",
    "    \n",
    "    This query will run on a database whose schema is represented in this string:\n",
    "\n",
    "    {read_file(sql_file)}\n",
    "\n",
    "    ### Response:\n",
    "    Based on your instructions, here is the SQL query I have generated to answer the question `{question}` without any additional text.:\n",
    "    ```sql\n",
    "    \"\"\"\n",
    "    return prompt"
   ]
  },
  {
   "cell_type": "code",
   "execution_count": 10,
   "metadata": {},
   "outputs": [],
   "source": [
    "def get_rate_prompt(schema,question,answer):\n",
    "    prompt = f\"\"\"\n",
    "\n",
    "    ### Instructions:\n",
    "    Your Task is to throughly study the given SQL Schema, and the text question asked based on the schema. you will be also be given a SQL query, which you have to rate on scale of 10.\n",
    "    \n",
    "    Adhere to these rules:\n",
    "    - **Deliberately go through the question and database schema word by word** to appropriately answer the question\n",
    "    - **Use Table Aliases** to prevent ambiguity. For example, `SELECT table1.col1, table2.col1 FROM table1 JOIN table2 ON table1.id = table2.id`.\n",
    "    - When creating a ratio, always cast the numerator as float\n",
    "\n",
    "\n",
    "    ## Input:\n",
    "    A question, {question}, is asked based on schema as given below.\n",
    "    \n",
    "    Overall Rate the SQL query on scale of 10, `{answer}`, based on the efficiency simplicity.\n",
    "    This Query is suppose to run on the schema in the following string:\n",
    "\n",
    "    {read_file(schema)}\n",
    "\n",
    "    I DONT WANT EXPLAINATION FOR YOU RATING! I ONLY WANT THE RATING! THATS IT! JUST NUMBER NOT EVEN 10!\n",
    "\n",
    "    \n",
    "\n",
    "    ### Response:\n",
    "    Based on your instructions, here is the rating of the sql query for provided schema without any additional text.:\n",
    "    \"\"\"\n",
    "\n",
    "    return prompt\n",
    "\n",
    "\n",
    "\n",
    "def get_ratings(schema,question,answer):\n",
    "    response = llm_gemini.invoke(\n",
    "        get_rate_prompt(\n",
    "            schema = schema,\n",
    "            question = question,\n",
    "            answer = answer,\n",
    "            )\n",
    "    )\n",
    "    \n",
    "    return response.content"
   ]
  },
  {
   "cell_type": "code",
   "execution_count": 10,
   "metadata": {},
   "outputs": [],
   "source": [
    "load_dotenv()\n",
    "\n",
    "llm_gemini = ChatGoogleGenerativeAI(\n",
    "    model = \"gemini-2.0-flash\",\n",
    "    api_key = os.getenv(\"GEMINI_API_KEY\")\n",
    ")\n"
   ]
  },
  {
   "cell_type": "code",
   "execution_count": null,
   "metadata": {},
   "outputs": [
    {
     "data": {
      "text/plain": [
       "'Today is October 26, 2023.'"
      ]
     },
     "execution_count": 12,
     "metadata": {},
     "output_type": "execute_result"
    }
   ],
   "source": [
    "# answer = llm_gemini.invoke('todays date')\n",
    "# answer.content\n"
   ]
  },
  {
   "cell_type": "code",
   "execution_count": 11,
   "metadata": {},
   "outputs": [],
   "source": [
    "# response = get_ratings(schema,question,answer)"
   ]
  },
  {
   "cell_type": "code",
   "execution_count": null,
   "metadata": {},
   "outputs": [],
   "source": [
    "questions = [\n",
    "    \"List all drugs in the 'Painkillers' category with a stock below 100 units, along with their supplier names and the date when their inventory was last updated. Order results by oldest inventory update first.\",\n",
    "    \"Identify the top 5 products by total sales amount in the last quarter of 2024, including their category names and the store locations where they were sold. Order the results by total sales amount in descending order.\",\n",
    "    \"Find the top 3 products with the highest average rating from user reviews, including their category names and total sales amounts. Only consider products that have been ordered at least 10 times. Order the results by average rating in descending order.\",\n",
    "    \"List all agents who have facilitated sales of properties with a total sale price exceeding $500,000 in the last year. Include their full names, the number of properties sold, and the total commission earned. Order the results by total commission in descending order.\",\n",
    "    \"Identify the top 5 products by total sales amount in the last quarter of 2024, including the name of the employee who made the sale and the total quantity sold for each product. Order the results by total sales amount in descending order.\",\n",
    "    \"Retrieve the first name of customers who have given a 5-star rating to a restaurant and have also placed at least one order at that restaurant. For each such customer-restaurant pair, also retrieve the name of the restaurant and the total amount the customer has spent at that restaurant.\",\n",
    "    \"Retrieve the first and last name of customers who have purchased a vehicle and also requested a service for that same vehicle, along with the model of the vehicle and the total cost of all services for that vehicle.\",\n",
    "    \"How can you retrieve a list of all active subscriptions along with the customer's name, plan name, and the subscription's start and end dates\",\n",
    "    \"How can you retrieve a report showing the total stock level of each product across all warehouses, including the product name and total quantity available?\",\n",
    "    \"How can you generate a report showing the total sales revenue for each salesperson, including their name and the total amount sold?\",\n",
    "]\n",
    "\n",
    "responses = []\n",
    "ratings = []"
   ]
  },
  {
   "cell_type": "code",
   "execution_count": null,
   "metadata": {},
   "outputs": [],
   "source": [
    "model_list = ['qwen2.5-coder:7b','gemma3:4b','deepseek-coder:6.7b']\n",
    "\n",
    "\n",
    "for model in model_list:\n",
    "    for i in range(5):\n",
    "        FILENAME = f\"table_list{i+1}_exp.sql\"\n",
    "\n",
    "        response = ollama.chat(model=model, messages=[\n",
    "        {\n",
    "            'role': 'user',\n",
    "            # 'content': get_prompt(\"What are the names and prices of all drugs in the 'Antibiotics' category?\")\n",
    "            'content': get_custom_prompt(\n",
    "                question = questions[i],\n",
    "                sql_file = FILENAME\n",
    "            )\n",
    "            # 'content': get_prompt(\"Which pharmacies have sold more than 100 units of drugs from the 'Painkillers' category in the last 30 days, and what is the total revenue generated from those sales, including the names of the employees who made the sales?\")\n",
    "        },\n",
    "        ])\n",
    "\n",
    "        res = response['message']['content']\n",
    "\n",
    "        responses.append(res)\n",
    "\n",
    "        rating = get_ratings(\n",
    "            schema = f\"table_list{i+1}_exp.sql\",\n",
    "            question = questions[i],\n",
    "            answer = res,\n",
    "        )\n",
    "\n",
    "        ratings.append(rating)\n",
    "\n",
    "\n"
   ]
  },
  {
   "cell_type": "code",
   "execution_count": 1,
   "metadata": {},
   "outputs": [
    {
     "ename": "ModuleNotFoundError",
     "evalue": "No module named 'pandas'",
     "output_type": "error",
     "traceback": [
      "\u001b[31m---------------------------------------------------------------------------\u001b[39m",
      "\u001b[31mModuleNotFoundError\u001b[39m                       Traceback (most recent call last)",
      "\u001b[36mCell\u001b[39m\u001b[36m \u001b[39m\u001b[32mIn[1]\u001b[39m\u001b[32m, line 1\u001b[39m\n\u001b[32m----> \u001b[39m\u001b[32m1\u001b[39m \u001b[38;5;28;01mimport\u001b[39;00m\u001b[38;5;250m \u001b[39m\u001b[34;01mpandas\u001b[39;00m\u001b[38;5;250m \u001b[39m\u001b[38;5;28;01mas\u001b[39;00m\u001b[38;5;250m \u001b[39m\u001b[34;01mpd\u001b[39;00m\n",
      "\u001b[31mModuleNotFoundError\u001b[39m: No module named 'pandas'"
     ]
    }
   ],
   "source": [
    "import pandas as pd"
   ]
  },
  {
   "cell_type": "code",
   "execution_count": null,
   "metadata": {},
   "outputs": [],
   "source": []
  }
 ],
 "metadata": {
  "kernelspec": {
   "display_name": ".venv",
   "language": "python",
   "name": "python3"
  },
  "language_info": {
   "codemirror_mode": {
    "name": "ipython",
    "version": 3
   },
   "file_extension": ".py",
   "mimetype": "text/x-python",
   "name": "python",
   "nbconvert_exporter": "python",
   "pygments_lexer": "ipython3",
   "version": "3.11.9"
  }
 },
 "nbformat": 4,
 "nbformat_minor": 2
}
